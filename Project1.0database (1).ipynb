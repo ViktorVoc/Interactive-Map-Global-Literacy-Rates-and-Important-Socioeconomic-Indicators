{
 "cells": [
  {
   "cell_type": "code",
   "execution_count": 32,
   "id": "f42f04c8-9264-46af-83bc-83e7129659c4",
   "metadata": {},
   "outputs": [],
   "source": [
    "import pandas as pd"
   ]
  },
  {
   "cell_type": "code",
   "execution_count": 67,
   "id": "57e285d7-f44f-450b-a485-97f64356090f",
   "metadata": {},
   "outputs": [
    {
     "name": "stdout",
     "output_type": "stream",
     "text": [
      "       Country  Literacy Rate  Physician Density  GDP (Current USD)  \\\n",
      "0  Afghanistan           43.0               0.28       1.723305e+10   \n",
      "1      Albania           98.1               1.20       2.354718e+10   \n",
      "2      Algeria           81.4               1.72       2.476260e+11   \n",
      "3      Andorra          100.0               3.33       3.785067e+09   \n",
      "4       Angola           71.1               0.21       8.482465e+10   \n",
      "\n",
      "   GDP Growth (% Annual)  GDP per Capita (Current USD)  \\\n",
      "0               2.710887                    415.707417   \n",
      "1               3.936625                   8575.171134   \n",
      "2               4.100000                   5364.027950   \n",
      "3               2.583555                  46812.448450   \n",
      "4               1.001289                   2308.159767   \n",
      "\n",
      "  GDP per Capita Category  Unemployment Rate (%) Continent  \n",
      "0                Very Low                 13.991      Asia  \n",
      "1                     Mid                 10.108    Europe  \n",
      "2                     Low                 11.701    Africa  \n",
      "3                    High                  3.700    Europe  \n",
      "4                     Low                 14.537    Africa  \n"
     ]
    }
   ],
   "source": [
    "df = pd.read_csv(r'C:\\Users\\User\\Desktop\\Anaconda Project\\education-economy-data(dataset)\\education-economy-data.csv')\n",
    "print(df.head())"
   ]
  },
  {
   "cell_type": "code",
   "execution_count": 51,
   "id": "8a1e7945-31dd-4f2d-9324-402abcc91506",
   "metadata": {},
   "outputs": [
    {
     "data": {
      "text/plain": [
       "0               Asia\n",
       "1             Europe\n",
       "2             Africa\n",
       "3             Europe\n",
       "4             Africa\n",
       "           ...      \n",
       "186    South America\n",
       "187             Asia\n",
       "188             Asia\n",
       "189           Africa\n",
       "190           Africa\n",
       "Name: Continent, Length: 191, dtype: object"
      ]
     },
     "execution_count": 51,
     "metadata": {},
     "output_type": "execute_result"
    }
   ],
   "source": [
    "df['Continent'].str.title()\n",
    "#I brought them all into one register so that Pandas wouldn't consider different registers of one variant as two variants. register check"
   ]
  },
  {
   "cell_type": "code",
   "execution_count": 52,
   "id": "0217064f-4bdd-4e92-967f-559e19b7f405",
   "metadata": {},
   "outputs": [
    {
     "data": {
      "text/plain": [
       "0      Afghanistan\n",
       "1          Albania\n",
       "2          Algeria\n",
       "3          Andorra\n",
       "4           Angola\n",
       "          ...     \n",
       "186      Venezuela\n",
       "187        Vietnam\n",
       "188          Yemen\n",
       "189         Zambia\n",
       "190       Zimbabwe\n",
       "Name: Country, Length: 191, dtype: object"
      ]
     },
     "execution_count": 52,
     "metadata": {},
     "output_type": "execute_result"
    }
   ],
   "source": [
    "df['Country'].str.title()\n",
    "#I brought them all into one register so that Pandas wouldn't consider different registers of one variant as two variants. register check"
   ]
  },
  {
   "cell_type": "code",
   "execution_count": 53,
   "id": "0cbc42f8-3dfc-49a4-93ce-8c399b17576a",
   "metadata": {},
   "outputs": [
    {
     "name": "stdout",
     "output_type": "stream",
     "text": [
      "Duplicates in 'Country': False\n"
     ]
    }
   ],
   "source": [
    "has_duplicates = df['Country'].duplicated().any()\n",
    "print(f\"Duplicates in 'Country': {has_duplicates}\")\n",
    "#duplicated() - returns True for all duplicate records, Any() - checks if there is at least one True value in the result"
   ]
  },
  {
   "cell_type": "code",
   "execution_count": 62,
   "id": "cb5ea4e6-f617-4f3d-b190-fb8368e40f50",
   "metadata": {},
   "outputs": [],
   "source": [
    "import plotly.express as px\n",
    "df['Map_Text'] = '<b>' + df['Country'].str.title() + '</b><br>' + 'Literacy Rate' + df['Literacy Rate'].astype(str) + '%<br>' + 'Physician Density' + df['Physician Density'].astype(str) + 'per 1000'"
   ]
  },
  {
   "cell_type": "code",
   "execution_count": 75,
   "id": "b951d6c3-a1d6-4179-8f57-cd130c604220",
   "metadata": {},
   "outputs": [
    {
     "data": {
      "application/vnd.plotly.v1+json": {
       "config": {
        "plotlyServerURL": "https://plot.ly"
       },
       "data": [
        {
         "coloraxis": "coloraxis",
         "customdata": [
          [
           43,
           0.28,
           13.991,
           415.7074171,
           "afghanistan",
           "Afghanistan",
           "Afghanistan"
          ],
          [
           98.1,
           1.2,
           10.108,
           8575.171134,
           "albania",
           "Albania",
           "Albania"
          ],
          [
           81.4,
           1.72,
           11.701,
           5364.02795,
           "algeria",
           "Algeria",
           "Algeria"
          ],
          [
           100,
           3.33,
           3.7,
           46812.44845,
           "andorra",
           "Andorra",
           "Andorra"
          ],
          [
           71.1,
           0.21,
           14.537,
           2308.159767,
           "angola",
           "Angola",
           "Angola"
          ],
          [
           99,
           2.76,
           7.7,
           21787.10173,
           "antigua and barbuda",
           "Antigua And Barbuda",
           "Antigua and Barbuda"
          ],
          [
           99,
           3.96,
           6.139,
           14187.48273,
           "argentina",
           "Argentina",
           "Argentina"
          ],
          [
           99.8,
           4.4,
           13.245,
           8053.010663,
           "armenia",
           "Armenia",
           "Armenia"
          ],
          [
           99,
           3.68,
           3.668,
           64820.91179,
           "australia",
           "Australia",
           "Australia"
          ],
          [
           98,
           5.17,
           5.264,
           56033.57379,
           "austria",
           "Austria",
           "Austria"
          ],
          [
           99.8,
           3.45,
           5.636,
           7125.908584,
           "azerbaijan",
           "Azerbaijan",
           "Azerbaijan"
          ],
          [
           95.6,
           1.94,
           8.643,
           35896.50511,
           "the bahamas",
           "The Bahamas",
           "The Bahamas"
          ],
          [
           95.7,
           0.93,
           1.154,
           29218.86056,
           "bahrain",
           "Bahrain",
           "Bahrain"
          ],
          [
           75.9,
           0.58,
           4.454,
           2551.017727,
           "bangladesh",
           "Bangladesh",
           "Bangladesh"
          ],
          [
           99.6,
           2.48,
           7.878,
           23804.02499,
           "barbados",
           "Barbados",
           "Barbados"
          ],
          [
           100,
           5.19,
           3.461,
           7829.053137,
           "belarus",
           "Belarus",
           "Belarus"
          ],
          [
           99,
           3.07,
           5.528,
           54700.90932,
           "belgium",
           "Belgium",
           "Belgium"
          ],
          [
           82.1,
           1.12,
           8.267,
           7459.998151,
           "belize",
           "Belize",
           "Belize"
          ],
          [
           42.4,
           0.08,
           1.657,
           1394.373302,
           "benin",
           "Benin",
           "Benin"
          ],
          [
           68.4,
           0.42,
           3.126,
           3115.1196784615386,
           "bhutan",
           "Bhutan",
           "Bhutan"
          ],
          [
           92.5,
           1.59,
           3.024,
           3686.279965,
           "bolivia",
           "Bolivia",
           "Bolivia"
          ],
          [
           98.5,
           2.16,
           10.668,
           8638.666202,
           "bosnia and herzegovina",
           "Bosnia And Herzegovina",
           "Bosnia and Herzegovina"
          ],
          [
           88.5,
           0.37,
           23.381,
           7820.232404,
           "botswana",
           "Botswana",
           "Botswana"
          ],
          [
           93.2,
           2.15,
           7.947,
           10294.86668,
           "brazil",
           "Brazil",
           "Brazil"
          ],
          [
           97.2,
           1.61,
           5.183,
           32962.90651,
           "brunei",
           "Brunei",
           "Brunei"
          ],
          [
           98,
           4.03,
           4.319,
           15885.53913,
           "bulgaria",
           "Bulgaria",
           "Bulgaria"
          ],
          [
           41.2,
           0.08,
           5.348,
           882.6898101,
           "burkina faso",
           "Burkina Faso",
           "Burkina Faso"
          ],
          [
           68.4,
           0.1,
           1.9,
           193.0071456,
           "burundi",
           "Burundi",
           "Burundi"
          ],
          [
           89.9,
           0.23,
           2.27,
           2530.846593,
           "ivory coast",
           "Ivory Coast",
           "Ivory Coast"
          ],
          [
           87.6,
           0.77,
           11.971,
           4850.984158,
           "cape verde",
           "Cape Verde",
           "Cape Verde"
          ],
          [
           83.9,
           0.17,
           0.225,
           2429.748535,
           "cambodia",
           "Cambodia",
           "Cambodia"
          ],
          [
           77.1,
           0.09,
           3.613,
           1736.860911,
           "cameroon",
           "Cameroon",
           "Cameroon"
          ],
          [
           99,
           2.61,
           5.415,
           53431.18571,
           "canada",
           "Canada",
           "Canada"
          ],
          [
           37.4,
           0.06,
           5.877,
           495.9788972,
           "central african republic",
           "Central African Republic",
           "Central African Republic"
          ],
          [
           26.8,
           0.04,
           1.074,
           680.6398779,
           "chad",
           "Chad",
           "Chad"
          ],
          [
           97,
           2.59,
           9.013,
           17067.81362,
           "chile",
           "Chile",
           "Chile"
          ],
          [
           97.2,
           1.98,
           4.67,
           12614.06174,
           "china",
           "China",
           "China"
          ],
          [
           94.6,
           2.18,
           9.594,
           6947.359287,
           "colombia",
           "Colombia",
           "Colombia"
          ],
          [
           58.8,
           0.27,
           3.776,
           1590.312377,
           "comoros",
           "Comoros",
           "Comoros"
          ],
          [
           80.3,
           0.12,
           19.898,
           2477.978455,
           "republic of the congo",
           "Republic Of The Congo",
           "Republic of the Congo"
          ],
          [
           97.9,
           2.89,
           8.325,
           16942.02681,
           "costa rica",
           "Costa Rica",
           "Costa Rica"
          ],
          [
           99.3,
           3,
           6.086,
           21865.45628,
           "croatia",
           "Croatia",
           "Croatia"
          ],
          [
           99.8,
           8.42,
           1.719,
           7638.245972181819,
           "cuba",
           "Cuba",
           "Cuba"
          ],
          [
           99.1,
           1.95,
           6.098,
           36551.41797,
           "cyprus",
           "Cyprus",
           "Cyprus"
          ],
          [
           99.8,
           4.12,
           2.579,
           31591.17707,
           "czech republic",
           "Czech Republic",
           "Czech Republic"
          ],
          [
           77,
           0.07,
           4.484,
           627.5021817,
           "democratic republic of the congo",
           "Democratic Republic Of The Congo",
           "Democratic Republic of the Congo"
          ],
          [
           99,
           4.01,
           5.094,
           68453.87693,
           "denmark",
           "Denmark",
           "Denmark"
          ],
          [
           70,
           0.22,
           26.154,
           3554.839189,
           "djibouti",
           "Djibouti",
           "Djibouti"
          ],
          [
           94,
           1.08,
           9.4,
           9832.996431,
           "dominica",
           "Dominica",
           "Dominica"
          ],
          [
           93.8,
           1.56,
           5.555,
           10717.62767,
           "dominican republic",
           "Dominican Republic",
           "Dominican Republic"
          ],
          [
           94,
           2.04,
           3.51,
           6609.804082,
           "ecuador",
           "Ecuador",
           "Ecuador"
          ],
          [
           73,
           0.45,
           7.334,
           3457.456916,
           "egypt",
           "Egypt",
           "Egypt"
          ],
          [
           89.1,
           1.57,
           2.992,
           5391.069262,
           "el salvador",
           "El Salvador",
           "El Salvador"
          ],
          [
           95.3,
           0.4,
           8.367,
           6677.793435,
           "equatorial guinea",
           "Equatorial Guinea",
           "Equatorial Guinea"
          ],
          [
           76.6,
           0.06,
           5.586,
           614.1905858499999,
           "eritrea",
           "Eritrea",
           "Eritrea"
          ],
          [
           99.8,
           4.48,
           6.378,
           30133.30445,
           "estonia",
           "Estonia",
           "Estonia"
          ],
          [
           88.4,
           0.17,
           35.086,
           3610.608797,
           "eswatini",
           "Eswatini",
           "Eswatini"
          ],
          [
           51.8,
           0.08,
           3.402,
           1272.016282,
           "ethiopia",
           "Ethiopia",
           "Ethiopia"
          ],
          [
           99.1,
           0.84,
           4.322,
           5888.736686,
           "fiji",
           "Fiji",
           "Fiji"
          ],
          [
           99,
           3.81,
           7.151,
           52925.68976,
           "finland",
           "Finland",
           "Finland"
          ],
          [
           99,
           3.27,
           7.335,
           44690.93454,
           "france",
           "France",
           "France"
          ],
          [
           84.7,
           0.68,
           20.278,
           7802.836596,
           "gabon",
           "Gabon",
           "Gabon"
          ],
          [
           99.6,
           7.12,
           11.537,
           8283.669602,
           "georgia",
           "Georgia",
           "Georgia"
          ],
          [
           99,
           4.25,
           3.068,
           54343.22651,
           "germany",
           "Germany",
           "Germany"
          ],
          [
           79,
           0.14,
           3.063,
           2260.287413,
           "ghana",
           "Ghana",
           "Ghana"
          ],
          [
           97.9,
           5.48,
           11.066,
           23400.72788,
           "greece",
           "Greece",
           "Greece"
          ],
          [
           96,
           1.41,
           13.2,
           11246.34512,
           "grenada",
           "Grenada",
           "Grenada"
          ],
          [
           83.3,
           0.35,
           2.344,
           5762.821746,
           "guatemala",
           "Guatemala",
           "Guatemala"
          ],
          [
           30.4,
           0.08,
           5.244,
           1541.040509,
           "guinea",
           "Guinea",
           "Guinea"
          ],
          [
           47,
           0.13,
           2.65,
           951.2427483,
           "guinea-bissau",
           "Guinea-Bissau",
           "Guinea-Bissau"
          ],
          [
           88.5,
           0.8,
           12.025,
           20765.35036,
           "guyana",
           "Guyana",
           "Guyana"
          ],
          [
           61.7,
           0.23,
           14.556,
           1705.779055,
           "haiti",
           "Haiti",
           "Haiti"
          ],
          [
           89,
           0.31,
           6.07,
           3231.657245,
           "honduras",
           "Honduras",
           "Honduras"
          ],
          [
           99.1,
           3.41,
           4.107,
           22141.86698,
           "hungary",
           "Hungary",
           "Hungary"
          ],
          [
           99,
           4.08,
           3.518,
           79636.95486,
           "iceland",
           "Iceland",
           "Iceland"
          ],
          [
           77.7,
           0.86,
           4.172,
           2480.792087,
           "india",
           "India",
           "India"
          ],
          [
           96,
           0.43,
           3.308,
           4876.314327,
           "indonesia",
           "Indonesia",
           "Indonesia"
          ],
          [
           89.5,
           1.58,
           9.041,
           4465.63767,
           "iran",
           "Iran",
           "Iran"
          ],
          [
           86.5,
           0.71,
           15.447,
           5565.126446,
           "iraq",
           "Iraq",
           "Iraq"
          ],
          [
           99,
           3.31,
           4.288,
           103887.8004,
           "republic of ireland",
           "Republic Of Ireland",
           "Republic of Ireland"
          ],
          [
           97.1,
           4.62,
           3.596,
           52642.42675,
           "israel",
           "Israel",
           "Israel"
          ],
          [
           99,
           3.98,
           7.627,
           39003.3161,
           "italy",
           "Italy",
           "Italy"
          ],
          [
           88.7,
           1.31,
           4.4,
           6839.725039,
           "jamaica",
           "Jamaica",
           "Jamaica"
          ],
          [
           99,
           2.41,
           2.6,
           33766.52683,
           "japan",
           "Japan",
           "Japan"
          ],
          [
           98,
           2.32,
           17.969,
           4455.505405,
           "jordan",
           "Jordan",
           "Jordan"
          ],
          [
           99.8,
           3.25,
           4.821,
           12918.86613,
           "kazakhstan",
           "Kazakhstan",
           "Kazakhstan"
          ],
          [
           82.6,
           0.16,
           5.567,
           1952.304579,
           "kenya",
           "Kenya",
           "Kenya"
          ],
          [
           91,
           0.2,
           30.6,
           2106.760004,
           "kiribati",
           "Kiribati",
           "Kiribati"
          ],
          [
           96.6,
           2.58,
           2.127,
           33729.79855,
           "kuwait",
           "Kuwait",
           "Kuwait"
          ],
          [
           99.6,
           1.88,
           3.991,
           1970.15781,
           "kyrgyzstan",
           "Kyrgyzstan",
           "Kyrgyzstan"
          ],
          [
           87.5,
           0.37,
           1.188,
           2066.949798,
           "laos",
           "Laos",
           "Laos"
          ],
          [
           99.9,
           3.19,
           6.465,
           22502.84299,
           "latvia",
           "Latvia",
           "Latvia"
          ],
          [
           95.6,
           2.1,
           11.543,
           7335.419342923076,
           "lebanon",
           "Lebanon",
           "Lebanon"
          ],
          [
           80.1,
           0.07,
           16.457,
           916.2829793,
           "lesotho",
           "Lesotho",
           "Lesotho"
          ],
          [
           48.3,
           0.04,
           2.933,
           771.8871421,
           "liberia",
           "Liberia",
           "Liberia"
          ],
          [
           91,
           2.09,
           18.753,
           6172.812469,
           "libya",
           "Libya",
           "Libya"
          ],
          [
           100,
           3.89,
           2.4,
           168647.5684846154,
           "liechtenstein",
           "Liechtenstein",
           "Liechtenstein"
          ],
          [
           99.8,
           6.35,
           6.841,
           27786.00578,
           "lithuania",
           "Lithuania",
           "Lithuania"
          ],
          [
           100,
           3.01,
           5.184,
           128678.1899,
           "luxembourg",
           "Luxembourg",
           "Luxembourg"
          ],
          [
           74.8,
           0.18,
           3.069,
           506.1593687,
           "madagascar",
           "Madagascar",
           "Madagascar"
          ],
          [
           65.8,
           0.04,
           5.033,
           602.3436198,
           "malawi",
           "Malawi",
           "Malawi"
          ],
          [
           95.9,
           1.51,
           3.869,
           11379.0861,
           "malaysia",
           "Malaysia",
           "Malaysia"
          ],
          [
           98.6,
           4.56,
           4.241,
           12530.36024,
           "maldives",
           "Maldives",
           "Maldives"
          ],
          [
           35.5,
           0.13,
           2.956,
           869.2702343,
           "mali",
           "Mali",
           "Mali"
          ],
          [
           94.5,
           2.86,
           3.11,
           40395.76921,
           "malta",
           "Malta",
           "Malta"
          ],
          [
           98.3,
           0.42,
           36,
           6678.342391,
           "marshall islands",
           "Marshall Islands",
           "Marshall Islands"
          ],
          [
           52.1,
           0.19,
           10.446,
           2120.823204,
           "mauritania",
           "Mauritania",
           "Mauritania"
          ],
          [
           91.3,
           2.53,
           5.571,
           11613.04416,
           "mauritius",
           "Mauritius",
           "Mauritius"
          ],
          [
           95.2,
           2.38,
           2.765,
           13790.02434,
           "mexico",
           "Mexico",
           "Mexico"
          ],
          [
           89,
           0.18,
           16.2,
           4084.169404,
           "federated states of micronesia",
           "Federated States Of Micronesia",
           "Federated States of Micronesia"
          ],
          [
           99.4,
           3.21,
           1.555,
           6729.412868,
           "moldova",
           "Moldova",
           "Moldova"
          ],
          [
           100,
           6.56,
           2,
           256580.5151,
           "monaco",
           "Monaco",
           "Monaco"
          ],
          [
           99.2,
           2.86,
           5.503,
           5838.631081,
           "mongolia",
           "Mongolia",
           "Mongolia"
          ],
          [
           98.7,
           2.76,
           14.621,
           12221.47755,
           "montenegro",
           "Montenegro",
           "Montenegro"
          ],
          [
           73.8,
           0.73,
           9.044,
           3771.446289,
           "morocco",
           "Morocco",
           "Morocco"
          ],
          [
           60.7,
           0.08,
           3.519,
           622.9856193,
           "mozambique",
           "Mozambique",
           "Mozambique"
          ],
          [
           89.1,
           0.68,
           3.032,
           1233.196662,
           "myanmar",
           "Myanmar",
           "Myanmar"
          ],
          [
           92.6,
           0.42,
           19.365,
           4168.285211,
           "namibia",
           "Namibia",
           "Namibia"
          ],
          [
           96.5,
           1,
           23,
           12982.76121,
           "nauru",
           "Nauru",
           "Nauru"
          ],
          [
           71,
           0.75,
           10.628,
           1377.626036,
           "nepal",
           "Nepal",
           "Nepal"
          ],
          [
           99,
           3.61,
           3.537,
           64572.00596,
           "netherlands",
           "Netherlands",
           "Netherlands"
          ],
          [
           99,
           3.59,
           3.729,
           48280.81142,
           "new zealand",
           "New Zealand",
           "New Zealand"
          ],
          [
           83.6,
           0.98,
           4.716,
           2612.870662,
           "nicaragua",
           "Nicaragua",
           "Nicaragua"
          ],
          [
           35,
           0.04,
           0.425,
           642.9379179,
           "niger",
           "Niger",
           "Niger"
          ],
          [
           62,
           0.38,
           3.074,
           1596.636961,
           "nigeria",
           "Nigeria",
           "Nigeria"
          ],
          [
           100,
           3.67,
           2.7,
           583,
           "north korea",
           "North Korea",
           "North Korea"
          ],
          [
           98.9,
           2.65,
           13.174,
           8624.293609,
           "north macedonia",
           "North Macedonia",
           "North Macedonia"
          ],
          [
           99,
           2.92,
           3.572,
           87925.09442,
           "norway",
           "Norway",
           "Norway"
          ],
          [
           95.7,
           2,
           3.176,
           21549.83687,
           "oman",
           "Oman",
           "Oman"
          ],
          [
           58,
           0.98,
           5.408,
           1365.277432,
           "pakistan",
           "Pakistan",
           "Pakistan"
          ],
          [
           99.4,
           1.18,
           1.7,
           15899.42249,
           "palau",
           "Palau",
           "Palau"
          ],
          [
           97.4,
           1.47,
           24.4,
           3372.349744,
           "palestinian national authority",
           "Palestinian National Authority",
           "Palestinian National Authority"
          ],
          [
           95.4,
           1.57,
           6.544,
           18686.4051,
           "panama",
           "Panama",
           "Panama"
          ],
          [
           63.4,
           0.07,
           2.661,
           2957.682625,
           "papua new guinea",
           "Papua New Guinea",
           "Papua New Guinea"
          ],
          [
           94.5,
           1.35,
           5.794,
           6276.351139,
           "paraguay",
           "Paraguay",
           "Paraguay"
          ],
          [
           94.5,
           1.27,
           4.899,
           7906.585029,
           "peru",
           "Peru",
           "Peru"
          ],
          [
           96.3,
           0.6,
           2.222,
           3804.87258,
           "philippines",
           "Philippines",
           "Philippines"
          ],
          [
           99.8,
           2.38,
           2.743,
           22056.66617,
           "poland",
           "Poland",
           "Poland"
          ],
          [
           95.7,
           5.12,
           6.509,
           27331.20949,
           "portugal",
           "Portugal",
           "Portugal"
          ],
          [
           97.8,
           2.49,
           0.13,
           80195.87465,
           "qatar",
           "Qatar",
           "Qatar"
          ],
          [
           98.9,
           2.98,
           5.589,
           18404.27309,
           "romania",
           "Romania",
           "Romania"
          ],
          [
           99.7,
           4.01,
           3.076,
           13817.0459,
           "russia",
           "Russia",
           "Russia"
          ],
          [
           73.2,
           0.13,
           12.352,
           1010.268929,
           "rwanda",
           "Rwanda",
           "Rwanda"
          ],
          [
           97.8,
           2.52,
           5.3,
           22573.67248,
           "saint kitts and nevis",
           "Saint Kitts And Nevis",
           "Saint Kitts and Nevis"
          ],
          [
           90.1,
           0.64,
           11.092,
           13554.66519,
           "saint lucia",
           "Saint Lucia",
           "Saint Lucia"
          ],
          [
           96,
           0.66,
           18.574,
           10520.44415,
           "saint vincent and the grenadines",
           "Saint Vincent And The Grenadines",
           "Saint Vincent and the Grenadines"
          ],
          [
           99,
           0.34,
           4.977,
           4330.178405,
           "samoa",
           "Samoa",
           "Samoa"
          ],
          [
           99.9,
           6.11,
           5.6,
           49407.31049692308,
           "san marino",
           "San Marino",
           "San Marino"
          ],
          [
           97.6,
           2.61,
           4.008,
           32093.9623,
           "saudi arabia",
           "Saudi Arabia",
           "Saudi Arabia"
          ],
          [
           52.1,
           0.07,
           2.8,
           1706.44218,
           "senegal",
           "Senegal",
           "Senegal"
          ],
          [
           98,
           3.11,
           8.268,
           12281.50585,
           "serbia",
           "Serbia",
           "Serbia"
          ],
          [
           95.9,
           0.95,
           3,
           17879.23965,
           "seychelles",
           "Seychelles",
           "Seychelles"
          ],
          [
           43.2,
           0.03,
           3.153,
           757.858336,
           "sierra leone",
           "Sierra Leone",
           "Sierra Leone"
          ],
          [
           97.5,
           2.29,
           3.444,
           84734.25592,
           "singapore",
           "Singapore",
           "Singapore"
          ],
          [
           99.6,
           3.42,
           5.84,
           24491.37719,
           "slovakia",
           "Slovakia",
           "Slovakia"
          ],
          [
           99.7,
           3.09,
           3.652,
           32610.11092,
           "slovenia",
           "Slovenia",
           "Slovenia"
          ],
          [
           76.6,
           0.19,
           1.455,
           2041.636491,
           "solomon islands",
           "Solomon Islands",
           "Solomon Islands"
          ],
          [
           37.8,
           0.02,
           18.941,
           597.4588546,
           "somalia",
           "Somalia",
           "Somalia"
          ],
          [
           87,
           0.91,
           32.098,
           6022.542542,
           "south africa",
           "South Africa",
           "South Africa"
          ],
          [
           97.9,
           2.36,
           2.675,
           33121.37129,
           "south korea",
           "South Korea",
           "South Korea"
          ],
          [
           34.5,
           0.02,
           12.7,
           1338.264387166667,
           "south sudan",
           "South Sudan",
           "South Sudan"
          ],
          [
           98.4,
           3.87,
           12.179,
           33509.0128,
           "spain",
           "Spain",
           "Spain"
          ],
          [
           92.3,
           1,
           5.997,
           3827.964956,
           "sri lanka",
           "Sri Lanka",
           "Sri Lanka"
          ],
          [
           60.7,
           0.26,
           13.593307692307691,
           2183.441406,
           "sudan",
           "Sudan",
           "Sudan"
          ],
          [
           95.4,
           1.21,
           7.631,
           5494.074094,
           "suriname",
           "Suriname",
           "Suriname"
          ],
          [
           99,
           3.98,
           7.611,
           55516.83648,
           "sweden",
           "Sweden",
           "Sweden"
          ],
          [
           99,
           4.3,
           4.043,
           99564.71003,
           "switzerland",
           "Switzerland",
           "Switzerland"
          ],
          [
           86.4,
           1.22,
           50,
           1267.517922653846,
           "syria",
           "Syria",
           "Syria"
          ],
          [
           99.8,
           1.7,
           11.546,
           1160.81187,
           "tajikistan",
           "Tajikistan",
           "Tajikistan"
          ],
          [
           81.8,
           0.01,
           2.582,
           1224.489624,
           "tanzania",
           "Tanzania",
           "Tanzania"
          ],
          [
           94.1,
           0.81,
           0.733,
           7182.025258,
           "thailand",
           "Thailand",
           "Thailand"
          ],
          [
           68.1,
           0.72,
           1.521,
           1502.519638,
           "east timor",
           "East Timor",
           "East Timor"
          ],
          [
           66.5,
           0.08,
           1.948,
           985.6975126,
           "togo",
           "Togo",
           "Togo"
          ],
          [
           99.4,
           0.52,
           2.262,
           4334.288669692308,
           "tonga",
           "Tonga",
           "Tonga"
          ],
          [
           99,
           4.17,
           4.21,
           20016.1503,
           "trinidad and tobago",
           "Trinidad And Tobago",
           "Trinidad and Tobago"
          ],
          [
           81.8,
           1.3,
           15.106,
           3977.695166,
           "tunisia",
           "Tunisia",
           "Tunisia"
          ],
          [
           99.7,
           2.22,
           4.099,
           8232.65226,
           "turkmenistan",
           "Turkmenistan",
           "Turkmenistan"
          ],
          [
           99,
           0.92,
           6,
           6344.775019,
           "tuvalu",
           "Tuvalu",
           "Tuvalu"
          ],
          [
           76.5,
           0.17,
           2.787,
           1002.309139,
           "uganda",
           "Uganda",
           "Uganda"
          ],
          [
           99.8,
           2.99,
           8.684333333333333,
           5069.703125,
           "ukraine",
           "Ukraine",
           "Ukraine"
          ],
          [
           97,
           2.53,
           2.151,
           49040.69475,
           "united arab emirates",
           "United Arab Emirates",
           "United Arab Emirates"
          ],
          [
           99,
           2.81,
           3.984,
           49463.85546,
           "united kingdom",
           "United Kingdom",
           "United Kingdom"
          ],
          [
           99,
           2.61,
           3.638,
           82769.41221,
           "united states",
           "United States",
           "United States"
          ],
          [
           98.6,
           5.05,
           8.355,
           22797.81117,
           "uruguay",
           "Uruguay",
           "Uruguay"
          ],
          [
           100,
           2.37,
           4.46,
           2849.514611,
           "uzbekistan",
           "Uzbekistan",
           "Uzbekistan"
          ],
          [
           89,
           0.17,
           5.082,
           3515.236336,
           "vanuatu",
           "Vanuatu",
           "Vanuatu"
          ],
          [
           97.1,
           1.92,
           8,
           13147.680841999998,
           "venezuela",
           "Venezuela",
           "Venezuela"
          ],
          [
           95.4,
           0.82,
           1.645,
           4282.088517,
           "vietnam",
           "Vietnam",
           "Vietnam"
          ],
          [
           54.1,
           0.31,
           17.091,
           477.4090287,
           "yemen",
           "Yemen",
           "Yemen"
          ],
          [
           87.4,
           1.19,
           5.905,
           1330.727806,
           "zambia",
           "Zambia",
           "Zambia"
          ],
          [
           89,
           0.21,
           8.759,
           2156.034004,
           "zimbabwe",
           "Zimbabwe",
           "Zimbabwe"
          ]
         ],
         "geo": "geo",
         "hovertemplate": "<b>%{hovertext}</b><br><br>Literacy Rate=%{z}<br>Physician Density=%{customdata[1]}<br>Unemployment Rate (%)=%{customdata[2]}<br>GDP per Capita (Current USD)=%{customdata[3]}<extra></extra>",
         "hovertext": [
          "Afghanistan",
          "Albania",
          "Algeria",
          "Andorra",
          "Angola",
          "Antigua And Barbuda",
          "Argentina",
          "Armenia",
          "Australia",
          "Austria",
          "Azerbaijan",
          "The Bahamas",
          "Bahrain",
          "Bangladesh",
          "Barbados",
          "Belarus",
          "Belgium",
          "Belize",
          "Benin",
          "Bhutan",
          "Bolivia",
          "Bosnia And Herzegovina",
          "Botswana",
          "Brazil",
          "Brunei",
          "Bulgaria",
          "Burkina Faso",
          "Burundi",
          "Ivory Coast",
          "Cape Verde",
          "Cambodia",
          "Cameroon",
          "Canada",
          "Central African Republic",
          "Chad",
          "Chile",
          "China",
          "Colombia",
          "Comoros",
          "Republic Of The Congo",
          "Costa Rica",
          "Croatia",
          "Cuba",
          "Cyprus",
          "Czech Republic",
          "Democratic Republic Of The Congo",
          "Denmark",
          "Djibouti",
          "Dominica",
          "Dominican Republic",
          "Ecuador",
          "Egypt",
          "El Salvador",
          "Equatorial Guinea",
          "Eritrea",
          "Estonia",
          "Eswatini",
          "Ethiopia",
          "Fiji",
          "Finland",
          "France",
          "Gabon",
          "Georgia",
          "Germany",
          "Ghana",
          "Greece",
          "Grenada",
          "Guatemala",
          "Guinea",
          "Guinea-Bissau",
          "Guyana",
          "Haiti",
          "Honduras",
          "Hungary",
          "Iceland",
          "India",
          "Indonesia",
          "Iran",
          "Iraq",
          "Republic Of Ireland",
          "Israel",
          "Italy",
          "Jamaica",
          "Japan",
          "Jordan",
          "Kazakhstan",
          "Kenya",
          "Kiribati",
          "Kuwait",
          "Kyrgyzstan",
          "Laos",
          "Latvia",
          "Lebanon",
          "Lesotho",
          "Liberia",
          "Libya",
          "Liechtenstein",
          "Lithuania",
          "Luxembourg",
          "Madagascar",
          "Malawi",
          "Malaysia",
          "Maldives",
          "Mali",
          "Malta",
          "Marshall Islands",
          "Mauritania",
          "Mauritius",
          "Mexico",
          "Federated States Of Micronesia",
          "Moldova",
          "Monaco",
          "Mongolia",
          "Montenegro",
          "Morocco",
          "Mozambique",
          "Myanmar",
          "Namibia",
          "Nauru",
          "Nepal",
          "Netherlands",
          "New Zealand",
          "Nicaragua",
          "Niger",
          "Nigeria",
          "North Korea",
          "North Macedonia",
          "Norway",
          "Oman",
          "Pakistan",
          "Palau",
          "Palestinian National Authority",
          "Panama",
          "Papua New Guinea",
          "Paraguay",
          "Peru",
          "Philippines",
          "Poland",
          "Portugal",
          "Qatar",
          "Romania",
          "Russia",
          "Rwanda",
          "Saint Kitts And Nevis",
          "Saint Lucia",
          "Saint Vincent And The Grenadines",
          "Samoa",
          "San Marino",
          "Saudi Arabia",
          "Senegal",
          "Serbia",
          "Seychelles",
          "Sierra Leone",
          "Singapore",
          "Slovakia",
          "Slovenia",
          "Solomon Islands",
          "Somalia",
          "South Africa",
          "South Korea",
          "South Sudan",
          "Spain",
          "Sri Lanka",
          "Sudan",
          "Suriname",
          "Sweden",
          "Switzerland",
          "Syria",
          "Tajikistan",
          "Tanzania",
          "Thailand",
          "East Timor",
          "Togo",
          "Tonga",
          "Trinidad And Tobago",
          "Tunisia",
          "Turkmenistan",
          "Tuvalu",
          "Uganda",
          "Ukraine",
          "United Arab Emirates",
          "United Kingdom",
          "United States",
          "Uruguay",
          "Uzbekistan",
          "Vanuatu",
          "Venezuela",
          "Vietnam",
          "Yemen",
          "Zambia",
          "Zimbabwe"
         ],
         "locationmode": "country names",
         "locations": [
          "afghanistan",
          "albania",
          "algeria",
          "andorra",
          "angola",
          "antigua and barbuda",
          "argentina",
          "armenia",
          "australia",
          "austria",
          "azerbaijan",
          "the bahamas",
          "bahrain",
          "bangladesh",
          "barbados",
          "belarus",
          "belgium",
          "belize",
          "benin",
          "bhutan",
          "bolivia",
          "bosnia and herzegovina",
          "botswana",
          "brazil",
          "brunei",
          "bulgaria",
          "burkina faso",
          "burundi",
          "ivory coast",
          "cape verde",
          "cambodia",
          "cameroon",
          "canada",
          "central african republic",
          "chad",
          "chile",
          "china",
          "colombia",
          "comoros",
          "republic of the congo",
          "costa rica",
          "croatia",
          "cuba",
          "cyprus",
          "czech republic",
          "democratic republic of the congo",
          "denmark",
          "djibouti",
          "dominica",
          "dominican republic",
          "ecuador",
          "egypt",
          "el salvador",
          "equatorial guinea",
          "eritrea",
          "estonia",
          "eswatini",
          "ethiopia",
          "fiji",
          "finland",
          "france",
          "gabon",
          "georgia",
          "germany",
          "ghana",
          "greece",
          "grenada",
          "guatemala",
          "guinea",
          "guinea-bissau",
          "guyana",
          "haiti",
          "honduras",
          "hungary",
          "iceland",
          "india",
          "indonesia",
          "iran",
          "iraq",
          "republic of ireland",
          "israel",
          "italy",
          "jamaica",
          "japan",
          "jordan",
          "kazakhstan",
          "kenya",
          "kiribati",
          "kuwait",
          "kyrgyzstan",
          "laos",
          "latvia",
          "lebanon",
          "lesotho",
          "liberia",
          "libya",
          "liechtenstein",
          "lithuania",
          "luxembourg",
          "madagascar",
          "malawi",
          "malaysia",
          "maldives",
          "mali",
          "malta",
          "marshall islands",
          "mauritania",
          "mauritius",
          "mexico",
          "federated states of micronesia",
          "moldova",
          "monaco",
          "mongolia",
          "montenegro",
          "morocco",
          "mozambique",
          "myanmar",
          "namibia",
          "nauru",
          "nepal",
          "netherlands",
          "new zealand",
          "nicaragua",
          "niger",
          "nigeria",
          "north korea",
          "north macedonia",
          "norway",
          "oman",
          "pakistan",
          "palau",
          "palestinian national authority",
          "panama",
          "papua new guinea",
          "paraguay",
          "peru",
          "philippines",
          "poland",
          "portugal",
          "qatar",
          "romania",
          "russia",
          "rwanda",
          "saint kitts and nevis",
          "saint lucia",
          "saint vincent and the grenadines",
          "samoa",
          "san marino",
          "saudi arabia",
          "senegal",
          "serbia",
          "seychelles",
          "sierra leone",
          "singapore",
          "slovakia",
          "slovenia",
          "solomon islands",
          "somalia",
          "south africa",
          "south korea",
          "south sudan",
          "spain",
          "sri lanka",
          "sudan",
          "suriname",
          "sweden",
          "switzerland",
          "syria",
          "tajikistan",
          "tanzania",
          "thailand",
          "east timor",
          "togo",
          "tonga",
          "trinidad and tobago",
          "tunisia",
          "turkmenistan",
          "tuvalu",
          "uganda",
          "ukraine",
          "united arab emirates",
          "united kingdom",
          "united states",
          "uruguay",
          "uzbekistan",
          "vanuatu",
          "venezuela",
          "vietnam",
          "yemen",
          "zambia",
          "zimbabwe"
         ],
         "name": "",
         "type": "choropleth",
         "z": [
          43,
          98.1,
          81.4,
          100,
          71.1,
          99,
          99,
          99.8,
          99,
          98,
          99.8,
          95.6,
          95.7,
          75.9,
          99.6,
          100,
          99,
          82.1,
          42.4,
          68.4,
          92.5,
          98.5,
          88.5,
          93.2,
          97.2,
          98,
          41.2,
          68.4,
          89.9,
          87.6,
          83.9,
          77.1,
          99,
          37.4,
          26.8,
          97,
          97.2,
          94.6,
          58.8,
          80.3,
          97.9,
          99.3,
          99.8,
          99.1,
          99.8,
          77,
          99,
          70,
          94,
          93.8,
          94,
          73,
          89.1,
          95.3,
          76.6,
          99.8,
          88.4,
          51.8,
          99.1,
          99,
          99,
          84.7,
          99.6,
          99,
          79,
          97.9,
          96,
          83.3,
          30.4,
          47,
          88.5,
          61.7,
          89,
          99.1,
          99,
          77.7,
          96,
          89.5,
          86.5,
          99,
          97.1,
          99,
          88.7,
          99,
          98,
          99.8,
          82.6,
          91,
          96.6,
          99.6,
          87.5,
          99.9,
          95.6,
          80.1,
          48.3,
          91,
          100,
          99.8,
          100,
          74.8,
          65.8,
          95.9,
          98.6,
          35.5,
          94.5,
          98.3,
          52.1,
          91.3,
          95.2,
          89,
          99.4,
          100,
          99.2,
          98.7,
          73.8,
          60.7,
          89.1,
          92.6,
          96.5,
          71,
          99,
          99,
          83.6,
          35,
          62,
          100,
          98.9,
          99,
          95.7,
          58,
          99.4,
          97.4,
          95.4,
          63.4,
          94.5,
          94.5,
          96.3,
          99.8,
          95.7,
          97.8,
          98.9,
          99.7,
          73.2,
          97.8,
          90.1,
          96,
          99,
          99.9,
          97.6,
          52.1,
          98,
          95.9,
          43.2,
          97.5,
          99.6,
          99.7,
          76.6,
          37.8,
          87,
          97.9,
          34.5,
          98.4,
          92.3,
          60.7,
          95.4,
          99,
          99,
          86.4,
          99.8,
          81.8,
          94.1,
          68.1,
          66.5,
          99.4,
          99,
          81.8,
          99.7,
          99,
          76.5,
          99.8,
          97,
          99,
          99,
          98.6,
          100,
          89,
          97.1,
          95.4,
          54.1,
          87.4,
          89
         ]
        }
       ],
       "layout": {
        "coloraxis": {
         "colorbar": {
          "title": {
           "text": "Literacy<br>Rate (%)"
          }
         },
         "colorscale": [
          [
           0,
           "#0d0887"
          ],
          [
           0.1111111111111111,
           "#46039f"
          ],
          [
           0.2222222222222222,
           "#7201a8"
          ],
          [
           0.3333333333333333,
           "#9c179e"
          ],
          [
           0.4444444444444444,
           "#bd3786"
          ],
          [
           0.5555555555555556,
           "#d8576b"
          ],
          [
           0.6666666666666666,
           "#ed7953"
          ],
          [
           0.7777777777777778,
           "#fb9f3a"
          ],
          [
           0.8888888888888888,
           "#fdca26"
          ],
          [
           1,
           "#f0f921"
          ]
         ]
        },
        "geo": {
         "center": {},
         "domain": {
          "x": [
           0,
           1
          ],
          "y": [
           0,
           1
          ]
         }
        },
        "height": 1000,
        "legend": {
         "tracegroupgap": 0
        },
        "template": {
         "data": {
          "bar": [
           {
            "error_x": {
             "color": "#2a3f5f"
            },
            "error_y": {
             "color": "#2a3f5f"
            },
            "marker": {
             "line": {
              "color": "#E5ECF6",
              "width": 0.5
             },
             "pattern": {
              "fillmode": "overlay",
              "size": 10,
              "solidity": 0.2
             }
            },
            "type": "bar"
           }
          ],
          "barpolar": [
           {
            "marker": {
             "line": {
              "color": "#E5ECF6",
              "width": 0.5
             },
             "pattern": {
              "fillmode": "overlay",
              "size": 10,
              "solidity": 0.2
             }
            },
            "type": "barpolar"
           }
          ],
          "carpet": [
           {
            "aaxis": {
             "endlinecolor": "#2a3f5f",
             "gridcolor": "white",
             "linecolor": "white",
             "minorgridcolor": "white",
             "startlinecolor": "#2a3f5f"
            },
            "baxis": {
             "endlinecolor": "#2a3f5f",
             "gridcolor": "white",
             "linecolor": "white",
             "minorgridcolor": "white",
             "startlinecolor": "#2a3f5f"
            },
            "type": "carpet"
           }
          ],
          "choropleth": [
           {
            "colorbar": {
             "outlinewidth": 0,
             "ticks": ""
            },
            "type": "choropleth"
           }
          ],
          "contour": [
           {
            "colorbar": {
             "outlinewidth": 0,
             "ticks": ""
            },
            "colorscale": [
             [
              0,
              "#0d0887"
             ],
             [
              0.1111111111111111,
              "#46039f"
             ],
             [
              0.2222222222222222,
              "#7201a8"
             ],
             [
              0.3333333333333333,
              "#9c179e"
             ],
             [
              0.4444444444444444,
              "#bd3786"
             ],
             [
              0.5555555555555556,
              "#d8576b"
             ],
             [
              0.6666666666666666,
              "#ed7953"
             ],
             [
              0.7777777777777778,
              "#fb9f3a"
             ],
             [
              0.8888888888888888,
              "#fdca26"
             ],
             [
              1,
              "#f0f921"
             ]
            ],
            "type": "contour"
           }
          ],
          "contourcarpet": [
           {
            "colorbar": {
             "outlinewidth": 0,
             "ticks": ""
            },
            "type": "contourcarpet"
           }
          ],
          "heatmap": [
           {
            "colorbar": {
             "outlinewidth": 0,
             "ticks": ""
            },
            "colorscale": [
             [
              0,
              "#0d0887"
             ],
             [
              0.1111111111111111,
              "#46039f"
             ],
             [
              0.2222222222222222,
              "#7201a8"
             ],
             [
              0.3333333333333333,
              "#9c179e"
             ],
             [
              0.4444444444444444,
              "#bd3786"
             ],
             [
              0.5555555555555556,
              "#d8576b"
             ],
             [
              0.6666666666666666,
              "#ed7953"
             ],
             [
              0.7777777777777778,
              "#fb9f3a"
             ],
             [
              0.8888888888888888,
              "#fdca26"
             ],
             [
              1,
              "#f0f921"
             ]
            ],
            "type": "heatmap"
           }
          ],
          "heatmapgl": [
           {
            "colorbar": {
             "outlinewidth": 0,
             "ticks": ""
            },
            "colorscale": [
             [
              0,
              "#0d0887"
             ],
             [
              0.1111111111111111,
              "#46039f"
             ],
             [
              0.2222222222222222,
              "#7201a8"
             ],
             [
              0.3333333333333333,
              "#9c179e"
             ],
             [
              0.4444444444444444,
              "#bd3786"
             ],
             [
              0.5555555555555556,
              "#d8576b"
             ],
             [
              0.6666666666666666,
              "#ed7953"
             ],
             [
              0.7777777777777778,
              "#fb9f3a"
             ],
             [
              0.8888888888888888,
              "#fdca26"
             ],
             [
              1,
              "#f0f921"
             ]
            ],
            "type": "heatmapgl"
           }
          ],
          "histogram": [
           {
            "marker": {
             "pattern": {
              "fillmode": "overlay",
              "size": 10,
              "solidity": 0.2
             }
            },
            "type": "histogram"
           }
          ],
          "histogram2d": [
           {
            "colorbar": {
             "outlinewidth": 0,
             "ticks": ""
            },
            "colorscale": [
             [
              0,
              "#0d0887"
             ],
             [
              0.1111111111111111,
              "#46039f"
             ],
             [
              0.2222222222222222,
              "#7201a8"
             ],
             [
              0.3333333333333333,
              "#9c179e"
             ],
             [
              0.4444444444444444,
              "#bd3786"
             ],
             [
              0.5555555555555556,
              "#d8576b"
             ],
             [
              0.6666666666666666,
              "#ed7953"
             ],
             [
              0.7777777777777778,
              "#fb9f3a"
             ],
             [
              0.8888888888888888,
              "#fdca26"
             ],
             [
              1,
              "#f0f921"
             ]
            ],
            "type": "histogram2d"
           }
          ],
          "histogram2dcontour": [
           {
            "colorbar": {
             "outlinewidth": 0,
             "ticks": ""
            },
            "colorscale": [
             [
              0,
              "#0d0887"
             ],
             [
              0.1111111111111111,
              "#46039f"
             ],
             [
              0.2222222222222222,
              "#7201a8"
             ],
             [
              0.3333333333333333,
              "#9c179e"
             ],
             [
              0.4444444444444444,
              "#bd3786"
             ],
             [
              0.5555555555555556,
              "#d8576b"
             ],
             [
              0.6666666666666666,
              "#ed7953"
             ],
             [
              0.7777777777777778,
              "#fb9f3a"
             ],
             [
              0.8888888888888888,
              "#fdca26"
             ],
             [
              1,
              "#f0f921"
             ]
            ],
            "type": "histogram2dcontour"
           }
          ],
          "mesh3d": [
           {
            "colorbar": {
             "outlinewidth": 0,
             "ticks": ""
            },
            "type": "mesh3d"
           }
          ],
          "parcoords": [
           {
            "line": {
             "colorbar": {
              "outlinewidth": 0,
              "ticks": ""
             }
            },
            "type": "parcoords"
           }
          ],
          "pie": [
           {
            "automargin": true,
            "type": "pie"
           }
          ],
          "scatter": [
           {
            "fillpattern": {
             "fillmode": "overlay",
             "size": 10,
             "solidity": 0.2
            },
            "type": "scatter"
           }
          ],
          "scatter3d": [
           {
            "line": {
             "colorbar": {
              "outlinewidth": 0,
              "ticks": ""
             }
            },
            "marker": {
             "colorbar": {
              "outlinewidth": 0,
              "ticks": ""
             }
            },
            "type": "scatter3d"
           }
          ],
          "scattercarpet": [
           {
            "marker": {
             "colorbar": {
              "outlinewidth": 0,
              "ticks": ""
             }
            },
            "type": "scattercarpet"
           }
          ],
          "scattergeo": [
           {
            "marker": {
             "colorbar": {
              "outlinewidth": 0,
              "ticks": ""
             }
            },
            "type": "scattergeo"
           }
          ],
          "scattergl": [
           {
            "marker": {
             "colorbar": {
              "outlinewidth": 0,
              "ticks": ""
             }
            },
            "type": "scattergl"
           }
          ],
          "scattermapbox": [
           {
            "marker": {
             "colorbar": {
              "outlinewidth": 0,
              "ticks": ""
             }
            },
            "type": "scattermapbox"
           }
          ],
          "scatterpolar": [
           {
            "marker": {
             "colorbar": {
              "outlinewidth": 0,
              "ticks": ""
             }
            },
            "type": "scatterpolar"
           }
          ],
          "scatterpolargl": [
           {
            "marker": {
             "colorbar": {
              "outlinewidth": 0,
              "ticks": ""
             }
            },
            "type": "scatterpolargl"
           }
          ],
          "scatterternary": [
           {
            "marker": {
             "colorbar": {
              "outlinewidth": 0,
              "ticks": ""
             }
            },
            "type": "scatterternary"
           }
          ],
          "surface": [
           {
            "colorbar": {
             "outlinewidth": 0,
             "ticks": ""
            },
            "colorscale": [
             [
              0,
              "#0d0887"
             ],
             [
              0.1111111111111111,
              "#46039f"
             ],
             [
              0.2222222222222222,
              "#7201a8"
             ],
             [
              0.3333333333333333,
              "#9c179e"
             ],
             [
              0.4444444444444444,
              "#bd3786"
             ],
             [
              0.5555555555555556,
              "#d8576b"
             ],
             [
              0.6666666666666666,
              "#ed7953"
             ],
             [
              0.7777777777777778,
              "#fb9f3a"
             ],
             [
              0.8888888888888888,
              "#fdca26"
             ],
             [
              1,
              "#f0f921"
             ]
            ],
            "type": "surface"
           }
          ],
          "table": [
           {
            "cells": {
             "fill": {
              "color": "#EBF0F8"
             },
             "line": {
              "color": "white"
             }
            },
            "header": {
             "fill": {
              "color": "#C8D4E3"
             },
             "line": {
              "color": "white"
             }
            },
            "type": "table"
           }
          ]
         },
         "layout": {
          "annotationdefaults": {
           "arrowcolor": "#2a3f5f",
           "arrowhead": 0,
           "arrowwidth": 1
          },
          "autotypenumbers": "strict",
          "coloraxis": {
           "colorbar": {
            "outlinewidth": 0,
            "ticks": ""
           }
          },
          "colorscale": {
           "diverging": [
            [
             0,
             "#8e0152"
            ],
            [
             0.1,
             "#c51b7d"
            ],
            [
             0.2,
             "#de77ae"
            ],
            [
             0.3,
             "#f1b6da"
            ],
            [
             0.4,
             "#fde0ef"
            ],
            [
             0.5,
             "#f7f7f7"
            ],
            [
             0.6,
             "#e6f5d0"
            ],
            [
             0.7,
             "#b8e186"
            ],
            [
             0.8,
             "#7fbc41"
            ],
            [
             0.9,
             "#4d9221"
            ],
            [
             1,
             "#276419"
            ]
           ],
           "sequential": [
            [
             0,
             "#0d0887"
            ],
            [
             0.1111111111111111,
             "#46039f"
            ],
            [
             0.2222222222222222,
             "#7201a8"
            ],
            [
             0.3333333333333333,
             "#9c179e"
            ],
            [
             0.4444444444444444,
             "#bd3786"
            ],
            [
             0.5555555555555556,
             "#d8576b"
            ],
            [
             0.6666666666666666,
             "#ed7953"
            ],
            [
             0.7777777777777778,
             "#fb9f3a"
            ],
            [
             0.8888888888888888,
             "#fdca26"
            ],
            [
             1,
             "#f0f921"
            ]
           ],
           "sequentialminus": [
            [
             0,
             "#0d0887"
            ],
            [
             0.1111111111111111,
             "#46039f"
            ],
            [
             0.2222222222222222,
             "#7201a8"
            ],
            [
             0.3333333333333333,
             "#9c179e"
            ],
            [
             0.4444444444444444,
             "#bd3786"
            ],
            [
             0.5555555555555556,
             "#d8576b"
            ],
            [
             0.6666666666666666,
             "#ed7953"
            ],
            [
             0.7777777777777778,
             "#fb9f3a"
            ],
            [
             0.8888888888888888,
             "#fdca26"
            ],
            [
             1,
             "#f0f921"
            ]
           ]
          },
          "colorway": [
           "#636efa",
           "#EF553B",
           "#00cc96",
           "#ab63fa",
           "#FFA15A",
           "#19d3f3",
           "#FF6692",
           "#B6E880",
           "#FF97FF",
           "#FECB52"
          ],
          "font": {
           "color": "#2a3f5f"
          },
          "geo": {
           "bgcolor": "white",
           "lakecolor": "white",
           "landcolor": "#E5ECF6",
           "showlakes": true,
           "showland": true,
           "subunitcolor": "white"
          },
          "hoverlabel": {
           "align": "left"
          },
          "hovermode": "closest",
          "mapbox": {
           "style": "light"
          },
          "paper_bgcolor": "white",
          "plot_bgcolor": "#E5ECF6",
          "polar": {
           "angularaxis": {
            "gridcolor": "white",
            "linecolor": "white",
            "ticks": ""
           },
           "bgcolor": "#E5ECF6",
           "radialaxis": {
            "gridcolor": "white",
            "linecolor": "white",
            "ticks": ""
           }
          },
          "scene": {
           "xaxis": {
            "backgroundcolor": "#E5ECF6",
            "gridcolor": "white",
            "gridwidth": 2,
            "linecolor": "white",
            "showbackground": true,
            "ticks": "",
            "zerolinecolor": "white"
           },
           "yaxis": {
            "backgroundcolor": "#E5ECF6",
            "gridcolor": "white",
            "gridwidth": 2,
            "linecolor": "white",
            "showbackground": true,
            "ticks": "",
            "zerolinecolor": "white"
           },
           "zaxis": {
            "backgroundcolor": "#E5ECF6",
            "gridcolor": "white",
            "gridwidth": 2,
            "linecolor": "white",
            "showbackground": true,
            "ticks": "",
            "zerolinecolor": "white"
           }
          },
          "shapedefaults": {
           "line": {
            "color": "#2a3f5f"
           }
          },
          "ternary": {
           "aaxis": {
            "gridcolor": "white",
            "linecolor": "white",
            "ticks": ""
           },
           "baxis": {
            "gridcolor": "white",
            "linecolor": "white",
            "ticks": ""
           },
           "bgcolor": "#E5ECF6",
           "caxis": {
            "gridcolor": "white",
            "linecolor": "white",
            "ticks": ""
           }
          },
          "title": {
           "x": 0.05
          },
          "xaxis": {
           "automargin": true,
           "gridcolor": "white",
           "linecolor": "white",
           "ticks": "",
           "title": {
            "standoff": 15
           },
           "zerolinecolor": "white",
           "zerolinewidth": 2
          },
          "yaxis": {
           "automargin": true,
           "gridcolor": "white",
           "linecolor": "white",
           "ticks": "",
           "title": {
            "standoff": 15
           },
           "zerolinecolor": "white",
           "zerolinewidth": 2
          }
         }
        },
        "title": {
         "text": "**Global Literacy Rate and Economic Indicators (Interactive Map)**"
        }
       }
      },
      "image/png": "[encoded data removed]",
      "text/html": [
       "<div>                            <div id=\"1f1fba77-ff7a-4e37-b26f-301c642145d8\" class=\"plotly-graph-div\" style=\"height:1000px; width:100%;\"></div>            <script type=\"text/javascript\">                require([\"plotly\"], function(Plotly) {                    window.PLOTLYENV=window.PLOTLYENV || {};                                    if (document.getElementById(\"1f1fba77-ff7a-4e37-b26f-301c642145d8\")) {                    Plotly.newPlot(                        \"1f1fba77-ff7a-4e37-b26f-301c642145d8\",                        [{\"coloraxis\":\"coloraxis\",\"customdata\":[[43.0,0.28,13.991,415.7074171,\"afghanistan\",\"Afghanistan\",\"Afghanistan\"],[98.1,1.2,10.108,8575.171134,\"albania\",\"Albania\",\"Albania\"],[81.4,1.72,11.701,5364.02795,\"algeria\",\"Algeria\",\"Algeria\"],[100.0,3.33,3.7,46812.44845,\"andorra\",\"Andorra\",\"Andorra\"],[71.1,0.21,14.537,2308.159767,\"angola\",\"Angola\",\"Angola\"],[99.0,2.76,7.7,21787.10173,\"antigua and barbuda\",\"Antigua And Barbuda\",\"Antigua and Barbuda\"],[99.0,3.96,6.139,14187.48273,\"argentina\",\"Argentina\",\"Argentina\"],[99.8,4.4,13.245,8053.010663,\"armenia\",\"Armenia\",\"Armenia\"],[99.0,3.68,3.668,64820.91179,\"australia\",\"Australia\",\"Australia\"],[98.0,5.17,5.264,56033.57379,\"austria\",\"Austria\",\"Austria\"],[99.8,3.45,5.636,7125.908584,\"azerbaijan\",\"Azerbaijan\",\"Azerbaijan\"],[95.6,1.94,8.643,35896.50511,\"the bahamas\",\"The Bahamas\",\"The Bahamas\"],[95.7,0.93,1.154,29218.86056,\"bahrain\",\"Bahrain\",\"Bahrain\"],[75.9,0.58,4.454,2551.017727,\"bangladesh\",\"Bangladesh\",\"Bangladesh\"],[99.6,2.48,7.878,23804.02499,\"barbados\",\"Barbados\",\"Barbados\"],[100.0,5.19,3.461,7829.053137,\"belarus\",\"Belarus\",\"Belarus\"],[99.0,3.07,5.528,54700.90932,\"belgium\",\"Belgium\",\"Belgium\"],[82.1,1.12,8.267,7459.998151,\"belize\",\"Belize\",\"Belize\"],[42.4,0.08,1.657,1394.373302,\"benin\",\"Benin\",\"Benin\"],[68.4,0.42,3.126,3115.1196784615386,\"bhutan\",\"Bhutan\",\"Bhutan\"],[92.5,1.59,3.024,3686.279965,\"bolivia\",\"Bolivia\",\"Bolivia\"],[98.5,2.16,10.668,8638.666202,\"bosnia and herzegovina\",\"Bosnia And Herzegovina\",\"Bosnia and Herzegovina\"],[88.5,0.37,23.381,7820.232404,\"botswana\",\"Botswana\",\"Botswana\"],[93.2,2.15,7.947,10294.86668,\"brazil\",\"Brazil\",\"Brazil\"],[97.2,1.61,5.183,32962.90651,\"brunei\",\"Brunei\",\"Brunei\"],[98.0,4.03,4.319,15885.53913,\"bulgaria\",\"Bulgaria\",\"Bulgaria\"],[41.2,0.08,5.348,882.6898101,\"burkina faso\",\"Burkina Faso\",\"Burkina Faso\"],[68.4,0.1,1.9,193.0071456,\"burundi\",\"Burundi\",\"Burundi\"],[89.9,0.23,2.27,2530.846593,\"ivory coast\",\"Ivory Coast\",\"Ivory Coast\"],[87.6,0.77,11.971,4850.984158,\"cape verde\",\"Cape Verde\",\"Cape Verde\"],[83.9,0.17,0.225,2429.748535,\"cambodia\",\"Cambodia\",\"Cambodia\"],[77.1,0.09,3.613,1736.860911,\"cameroon\",\"Cameroon\",\"Cameroon\"],[99.0,2.61,5.415,53431.18571,\"canada\",\"Canada\",\"Canada\"],[37.4,0.06,5.877,495.9788972,\"central african republic\",\"Central African Republic\",\"Central African Republic\"],[26.8,0.04,1.074,680.6398779,\"chad\",\"Chad\",\"Chad\"],[97.0,2.59,9.013,17067.81362,\"chile\",\"Chile\",\"Chile\"],[97.2,1.98,4.67,12614.06174,\"china\",\"China\",\"China\"],[94.6,2.18,9.594,6947.359287,\"colombia\",\"Colombia\",\"Colombia\"],[58.8,0.27,3.776,1590.312377,\"comoros\",\"Comoros\",\"Comoros\"],[80.3,0.12,19.898,2477.978455,\"republic of the congo\",\"Republic Of The Congo\",\"Republic of the Congo\"],[97.9,2.89,8.325,16942.02681,\"costa rica\",\"Costa Rica\",\"Costa Rica\"],[99.3,3.0,6.086,21865.45628,\"croatia\",\"Croatia\",\"Croatia\"],[99.8,8.42,1.719,7638.245972181819,\"cuba\",\"Cuba\",\"Cuba\"],[99.1,1.95,6.098,36551.41797,\"cyprus\",\"Cyprus\",\"Cyprus\"],[99.8,4.12,2.579,31591.17707,\"czech republic\",\"Czech Republic\",\"Czech Republic\"],[77.0,0.07,4.484,627.5021817,\"democratic republic of the congo\",\"Democratic Republic Of The Congo\",\"Democratic Republic of the Congo\"],[99.0,4.01,5.094,68453.87693,\"denmark\",\"Denmark\",\"Denmark\"],[70.0,0.22,26.154,3554.839189,\"djibouti\",\"Djibouti\",\"Djibouti\"],[94.0,1.08,9.4,9832.996431,\"dominica\",\"Dominica\",\"Dominica\"],[93.8,1.56,5.555,10717.62767,\"dominican republic\",\"Dominican Republic\",\"Dominican Republic\"],[94.0,2.04,3.51,6609.804082,\"ecuador\",\"Ecuador\",\"Ecuador\"],[73.0,0.45,7.334,3457.456916,\"egypt\",\"Egypt\",\"Egypt\"],[89.1,1.57,2.992,5391.069262,\"el salvador\",\"El Salvador\",\"El Salvador\"],[95.3,0.4,8.367,6677.793435,\"equatorial guinea\",\"Equatorial Guinea\",\"Equatorial Guinea\"],[76.6,0.06,5.586,614.1905858499999,\"eritrea\",\"Eritrea\",\"Eritrea\"],[99.8,4.48,6.378,30133.30445,\"estonia\",\"Estonia\",\"Estonia\"],[88.4,0.17,35.086,3610.608797,\"eswatini\",\"Eswatini\",\"Eswatini\"],[51.8,0.08,3.402,1272.016282,\"ethiopia\",\"Ethiopia\",\"Ethiopia\"],[99.1,0.84,4.322,5888.736686,\"fiji\",\"Fiji\",\"Fiji\"],[99.0,3.81,7.151,52925.68976,\"finland\",\"Finland\",\"Finland\"],[99.0,3.27,7.335,44690.93454,\"france\",\"France\",\"France\"],[84.7,0.68,20.278,7802.836596,\"gabon\",\"Gabon\",\"Gabon\"],[99.6,7.12,11.537,8283.669602,\"georgia\",\"Georgia\",\"Georgia\"],[99.0,4.25,3.068,54343.22651,\"germany\",\"Germany\",\"Germany\"],[79.0,0.14,3.063,2260.287413,\"ghana\",\"Ghana\",\"Ghana\"],[97.9,5.48,11.066,23400.72788,\"greece\",\"Greece\",\"Greece\"],[96.0,1.41,13.2,11246.34512,\"grenada\",\"Grenada\",\"Grenada\"],[83.3,0.35,2.344,5762.821746,\"guatemala\",\"Guatemala\",\"Guatemala\"],[30.4,0.08,5.244,1541.040509,\"guinea\",\"Guinea\",\"Guinea\"],[47.0,0.13,2.65,951.2427483,\"guinea-bissau\",\"Guinea-Bissau\",\"Guinea-Bissau\"],[88.5,0.8,12.025,20765.35036,\"guyana\",\"Guyana\",\"Guyana\"],[61.7,0.23,14.556,1705.779055,\"haiti\",\"Haiti\",\"Haiti\"],[89.0,0.31,6.07,3231.657245,\"honduras\",\"Honduras\",\"Honduras\"],[99.1,3.41,4.107,22141.86698,\"hungary\",\"Hungary\",\"Hungary\"],[99.0,4.08,3.518,79636.95486,\"iceland\",\"Iceland\",\"Iceland\"],[77.7,0.86,4.172,2480.792087,\"india\",\"India\",\"India\"],[96.0,0.43,3.308,4876.314327,\"indonesia\",\"Indonesia\",\"Indonesia\"],[89.5,1.58,9.041,4465.63767,\"iran\",\"Iran\",\"Iran\"],[86.5,0.71,15.447,5565.126446,\"iraq\",\"Iraq\",\"Iraq\"],[99.0,3.31,4.288,103887.8004,\"republic of ireland\",\"Republic Of Ireland\",\"Republic of Ireland\"],[97.1,4.62,3.596,52642.42675,\"israel\",\"Israel\",\"Israel\"],[99.0,3.98,7.627,39003.3161,\"italy\",\"Italy\",\"Italy\"],[88.7,1.31,4.4,6839.725039,\"jamaica\",\"Jamaica\",\"Jamaica\"],[99.0,2.41,2.6,33766.52683,\"japan\",\"Japan\",\"Japan\"],[98.0,2.32,17.969,4455.505405,\"jordan\",\"Jordan\",\"Jordan\"],[99.8,3.25,4.821,12918.86613,\"kazakhstan\",\"Kazakhstan\",\"Kazakhstan\"],[82.6,0.16,5.567,1952.304579,\"kenya\",\"Kenya\",\"Kenya\"],[91.0,0.2,30.6,2106.760004,\"kiribati\",\"Kiribati\",\"Kiribati\"],[96.6,2.58,2.127,33729.79855,\"kuwait\",\"Kuwait\",\"Kuwait\"],[99.6,1.88,3.991,1970.15781,\"kyrgyzstan\",\"Kyrgyzstan\",\"Kyrgyzstan\"],[87.5,0.37,1.188,2066.949798,\"laos\",\"Laos\",\"Laos\"],[99.9,3.19,6.465,22502.84299,\"latvia\",\"Latvia\",\"Latvia\"],[95.6,2.1,11.543,7335.419342923076,\"lebanon\",\"Lebanon\",\"Lebanon\"],[80.1,0.07,16.457,916.2829793,\"lesotho\",\"Lesotho\",\"Lesotho\"],[48.3,0.04,2.933,771.8871421,\"liberia\",\"Liberia\",\"Liberia\"],[91.0,2.09,18.753,6172.812469,\"libya\",\"Libya\",\"Libya\"],[100.0,3.89,2.4,168647.5684846154,\"liechtenstein\",\"Liechtenstein\",\"Liechtenstein\"],[99.8,6.35,6.841,27786.00578,\"lithuania\",\"Lithuania\",\"Lithuania\"],[100.0,3.01,5.184,128678.1899,\"luxembourg\",\"Luxembourg\",\"Luxembourg\"],[74.8,0.18,3.069,506.1593687,\"madagascar\",\"Madagascar\",\"Madagascar\"],[65.8,0.04,5.033,602.3436198,\"malawi\",\"Malawi\",\"Malawi\"],[95.9,1.51,3.869,11379.0861,\"malaysia\",\"Malaysia\",\"Malaysia\"],[98.6,4.56,4.241,12530.36024,\"maldives\",\"Maldives\",\"Maldives\"],[35.5,0.13,2.956,869.2702343,\"mali\",\"Mali\",\"Mali\"],[94.5,2.86,3.11,40395.76921,\"malta\",\"Malta\",\"Malta\"],[98.3,0.42,36.0,6678.342391,\"marshall islands\",\"Marshall Islands\",\"Marshall Islands\"],[52.1,0.19,10.446,2120.823204,\"mauritania\",\"Mauritania\",\"Mauritania\"],[91.3,2.53,5.571,11613.04416,\"mauritius\",\"Mauritius\",\"Mauritius\"],[95.2,2.38,2.765,13790.02434,\"mexico\",\"Mexico\",\"Mexico\"],[89.0,0.18,16.2,4084.169404,\"federated states of micronesia\",\"Federated States Of Micronesia\",\"Federated States of Micronesia\"],[99.4,3.21,1.555,6729.412868,\"moldova\",\"Moldova\",\"Moldova\"],[100.0,6.56,2.0,256580.5151,\"monaco\",\"Monaco\",\"Monaco\"],[99.2,2.86,5.503,5838.631081,\"mongolia\",\"Mongolia\",\"Mongolia\"],[98.7,2.76,14.621,12221.47755,\"montenegro\",\"Montenegro\",\"Montenegro\"],[73.8,0.73,9.044,3771.446289,\"morocco\",\"Morocco\",\"Morocco\"],[60.7,0.08,3.519,622.9856193,\"mozambique\",\"Mozambique\",\"Mozambique\"],[89.1,0.68,3.032,1233.196662,\"myanmar\",\"Myanmar\",\"Myanmar\"],[92.6,0.42,19.365,4168.285211,\"namibia\",\"Namibia\",\"Namibia\"],[96.5,1.0,23.0,12982.76121,\"nauru\",\"Nauru\",\"Nauru\"],[71.0,0.75,10.628,1377.626036,\"nepal\",\"Nepal\",\"Nepal\"],[99.0,3.61,3.537,64572.00596,\"netherlands\",\"Netherlands\",\"Netherlands\"],[99.0,3.59,3.729,48280.81142,\"new zealand\",\"New Zealand\",\"New Zealand\"],[83.6,0.98,4.716,2612.870662,\"nicaragua\",\"Nicaragua\",\"Nicaragua\"],[35.0,0.04,0.425,642.9379179,\"niger\",\"Niger\",\"Niger\"],[62.0,0.38,3.074,1596.636961,\"nigeria\",\"Nigeria\",\"Nigeria\"],[100.0,3.67,2.7,583.0,\"north korea\",\"North Korea\",\"North Korea\"],[98.9,2.65,13.174,8624.293609,\"north macedonia\",\"North Macedonia\",\"North Macedonia\"],[99.0,2.92,3.572,87925.09442,\"norway\",\"Norway\",\"Norway\"],[95.7,2.0,3.176,21549.83687,\"oman\",\"Oman\",\"Oman\"],[58.0,0.98,5.408,1365.277432,\"pakistan\",\"Pakistan\",\"Pakistan\"],[99.4,1.18,1.7,15899.42249,\"palau\",\"Palau\",\"Palau\"],[97.4,1.47,24.4,3372.349744,\"palestinian national authority\",\"Palestinian National Authority\",\"Palestinian National Authority\"],[95.4,1.57,6.544,18686.4051,\"panama\",\"Panama\",\"Panama\"],[63.4,0.07,2.661,2957.682625,\"papua new guinea\",\"Papua New Guinea\",\"Papua New Guinea\"],[94.5,1.35,5.794,6276.351139,\"paraguay\",\"Paraguay\",\"Paraguay\"],[94.5,1.27,4.899,7906.585029,\"peru\",\"Peru\",\"Peru\"],[96.3,0.6,2.222,3804.87258,\"philippines\",\"Philippines\",\"Philippines\"],[99.8,2.38,2.743,22056.66617,\"poland\",\"Poland\",\"Poland\"],[95.7,5.12,6.509,27331.20949,\"portugal\",\"Portugal\",\"Portugal\"],[97.8,2.49,0.13,80195.87465,\"qatar\",\"Qatar\",\"Qatar\"],[98.9,2.98,5.589,18404.27309,\"romania\",\"Romania\",\"Romania\"],[99.7,4.01,3.076,13817.0459,\"russia\",\"Russia\",\"Russia\"],[73.2,0.13,12.352,1010.268929,\"rwanda\",\"Rwanda\",\"Rwanda\"],[97.8,2.52,5.3,22573.67248,\"saint kitts and nevis\",\"Saint Kitts And Nevis\",\"Saint Kitts and Nevis\"],[90.1,0.64,11.092,13554.66519,\"saint lucia\",\"Saint Lucia\",\"Saint Lucia\"],[96.0,0.66,18.574,10520.44415,\"saint vincent and the grenadines\",\"Saint Vincent And The Grenadines\",\"Saint Vincent and the Grenadines\"],[99.0,0.34,4.977,4330.178405,\"samoa\",\"Samoa\",\"Samoa\"],[99.9,6.11,5.6,49407.31049692308,\"san marino\",\"San Marino\",\"San Marino\"],[97.6,2.61,4.008,32093.9623,\"saudi arabia\",\"Saudi Arabia\",\"Saudi Arabia\"],[52.1,0.07,2.8,1706.44218,\"senegal\",\"Senegal\",\"Senegal\"],[98.0,3.11,8.268,12281.50585,\"serbia\",\"Serbia\",\"Serbia\"],[95.9,0.95,3.0,17879.23965,\"seychelles\",\"Seychelles\",\"Seychelles\"],[43.2,0.03,3.153,757.858336,\"sierra leone\",\"Sierra Leone\",\"Sierra Leone\"],[97.5,2.29,3.444,84734.25592,\"singapore\",\"Singapore\",\"Singapore\"],[99.6,3.42,5.84,24491.37719,\"slovakia\",\"Slovakia\",\"Slovakia\"],[99.7,3.09,3.652,32610.11092,\"slovenia\",\"Slovenia\",\"Slovenia\"],[76.6,0.19,1.455,2041.636491,\"solomon islands\",\"Solomon Islands\",\"Solomon Islands\"],[37.8,0.02,18.941,597.4588546,\"somalia\",\"Somalia\",\"Somalia\"],[87.0,0.91,32.098,6022.542542,\"south africa\",\"South Africa\",\"South Africa\"],[97.9,2.36,2.675,33121.37129,\"south korea\",\"South Korea\",\"South Korea\"],[34.5,0.02,12.7,1338.264387166667,\"south sudan\",\"South Sudan\",\"South Sudan\"],[98.4,3.87,12.179,33509.0128,\"spain\",\"Spain\",\"Spain\"],[92.3,1.0,5.997,3827.964956,\"sri lanka\",\"Sri Lanka\",\"Sri Lanka\"],[60.7,0.26,13.593307692307691,2183.441406,\"sudan\",\"Sudan\",\"Sudan\"],[95.4,1.21,7.631,5494.074094,\"suriname\",\"Suriname\",\"Suriname\"],[99.0,3.98,7.611,55516.83648,\"sweden\",\"Sweden\",\"Sweden\"],[99.0,4.3,4.043,99564.71003,\"switzerland\",\"Switzerland\",\"Switzerland\"],[86.4,1.22,50.0,1267.517922653846,\"syria\",\"Syria\",\"Syria\"],[99.8,1.7,11.546,1160.81187,\"tajikistan\",\"Tajikistan\",\"Tajikistan\"],[81.8,0.01,2.582,1224.489624,\"tanzania\",\"Tanzania\",\"Tanzania\"],[94.1,0.81,0.733,7182.025258,\"thailand\",\"Thailand\",\"Thailand\"],[68.1,0.72,1.521,1502.519638,\"east timor\",\"East Timor\",\"East Timor\"],[66.5,0.08,1.948,985.6975126,\"togo\",\"Togo\",\"Togo\"],[99.4,0.52,2.262,4334.288669692308,\"tonga\",\"Tonga\",\"Tonga\"],[99.0,4.17,4.21,20016.1503,\"trinidad and tobago\",\"Trinidad And Tobago\",\"Trinidad and Tobago\"],[81.8,1.3,15.106,3977.695166,\"tunisia\",\"Tunisia\",\"Tunisia\"],[99.7,2.22,4.099,8232.65226,\"turkmenistan\",\"Turkmenistan\",\"Turkmenistan\"],[99.0,0.92,6.0,6344.775019,\"tuvalu\",\"Tuvalu\",\"Tuvalu\"],[76.5,0.17,2.787,1002.309139,\"uganda\",\"Uganda\",\"Uganda\"],[99.8,2.99,8.684333333333333,5069.703125,\"ukraine\",\"Ukraine\",\"Ukraine\"],[97.0,2.53,2.151,49040.69475,\"united arab emirates\",\"United Arab Emirates\",\"United Arab Emirates\"],[99.0,2.81,3.984,49463.85546,\"united kingdom\",\"United Kingdom\",\"United Kingdom\"],[99.0,2.61,3.638,82769.41221,\"united states\",\"United States\",\"United States\"],[98.6,5.05,8.355,22797.81117,\"uruguay\",\"Uruguay\",\"Uruguay\"],[100.0,2.37,4.46,2849.514611,\"uzbekistan\",\"Uzbekistan\",\"Uzbekistan\"],[89.0,0.17,5.082,3515.236336,\"vanuatu\",\"Vanuatu\",\"Vanuatu\"],[97.1,1.92,8.0,13147.680841999998,\"venezuela\",\"Venezuela\",\"Venezuela\"],[95.4,0.82,1.645,4282.088517,\"vietnam\",\"Vietnam\",\"Vietnam\"],[54.1,0.31,17.091,477.4090287,\"yemen\",\"Yemen\",\"Yemen\"],[87.4,1.19,5.905,1330.727806,\"zambia\",\"Zambia\",\"Zambia\"],[89.0,0.21,8.759,2156.034004,\"zimbabwe\",\"Zimbabwe\",\"Zimbabwe\"]],\"geo\":\"geo\",\"hovertemplate\":\"\\u003cb\\u003e%{hovertext}\\u003c\\u002fb\\u003e\\u003cbr\\u003e\\u003cbr\\u003eLiteracy Rate=%{z}\\u003cbr\\u003ePhysician Density=%{customdata[1]}\\u003cbr\\u003eUnemployment Rate (%)=%{customdata[2]}\\u003cbr\\u003eGDP per Capita (Current USD)=%{customdata[3]}\\u003cextra\\u003e\\u003c\\u002fextra\\u003e\",\"hovertext\":[\"Afghanistan\",\"Albania\",\"Algeria\",\"Andorra\",\"Angola\",\"Antigua And Barbuda\",\"Argentina\",\"Armenia\",\"Australia\",\"Austria\",\"Azerbaijan\",\"The Bahamas\",\"Bahrain\",\"Bangladesh\",\"Barbados\",\"Belarus\",\"Belgium\",\"Belize\",\"Benin\",\"Bhutan\",\"Bolivia\",\"Bosnia And Herzegovina\",\"Botswana\",\"Brazil\",\"Brunei\",\"Bulgaria\",\"Burkina Faso\",\"Burundi\",\"Ivory Coast\",\"Cape Verde\",\"Cambodia\",\"Cameroon\",\"Canada\",\"Central African Republic\",\"Chad\",\"Chile\",\"China\",\"Colombia\",\"Comoros\",\"Republic Of The Congo\",\"Costa Rica\",\"Croatia\",\"Cuba\",\"Cyprus\",\"Czech Republic\",\"Democratic Republic Of The Congo\",\"Denmark\",\"Djibouti\",\"Dominica\",\"Dominican Republic\",\"Ecuador\",\"Egypt\",\"El Salvador\",\"Equatorial Guinea\",\"Eritrea\",\"Estonia\",\"Eswatini\",\"Ethiopia\",\"Fiji\",\"Finland\",\"France\",\"Gabon\",\"Georgia\",\"Germany\",\"Ghana\",\"Greece\",\"Grenada\",\"Guatemala\",\"Guinea\",\"Guinea-Bissau\",\"Guyana\",\"Haiti\",\"Honduras\",\"Hungary\",\"Iceland\",\"India\",\"Indonesia\",\"Iran\",\"Iraq\",\"Republic Of Ireland\",\"Israel\",\"Italy\",\"Jamaica\",\"Japan\",\"Jordan\",\"Kazakhstan\",\"Kenya\",\"Kiribati\",\"Kuwait\",\"Kyrgyzstan\",\"Laos\",\"Latvia\",\"Lebanon\",\"Lesotho\",\"Liberia\",\"Libya\",\"Liechtenstein\",\"Lithuania\",\"Luxembourg\",\"Madagascar\",\"Malawi\",\"Malaysia\",\"Maldives\",\"Mali\",\"Malta\",\"Marshall Islands\",\"Mauritania\",\"Mauritius\",\"Mexico\",\"Federated States Of Micronesia\",\"Moldova\",\"Monaco\",\"Mongolia\",\"Montenegro\",\"Morocco\",\"Mozambique\",\"Myanmar\",\"Namibia\",\"Nauru\",\"Nepal\",\"Netherlands\",\"New Zealand\",\"Nicaragua\",\"Niger\",\"Nigeria\",\"North Korea\",\"North Macedonia\",\"Norway\",\"Oman\",\"Pakistan\",\"Palau\",\"Palestinian National Authority\",\"Panama\",\"Papua New Guinea\",\"Paraguay\",\"Peru\",\"Philippines\",\"Poland\",\"Portugal\",\"Qatar\",\"Romania\",\"Russia\",\"Rwanda\",\"Saint Kitts And Nevis\",\"Saint Lucia\",\"Saint Vincent And The Grenadines\",\"Samoa\",\"San Marino\",\"Saudi Arabia\",\"Senegal\",\"Serbia\",\"Seychelles\",\"Sierra Leone\",\"Singapore\",\"Slovakia\",\"Slovenia\",\"Solomon Islands\",\"Somalia\",\"South Africa\",\"South Korea\",\"South Sudan\",\"Spain\",\"Sri Lanka\",\"Sudan\",\"Suriname\",\"Sweden\",\"Switzerland\",\"Syria\",\"Tajikistan\",\"Tanzania\",\"Thailand\",\"East Timor\",\"Togo\",\"Tonga\",\"Trinidad And Tobago\",\"Tunisia\",\"Turkmenistan\",\"Tuvalu\",\"Uganda\",\"Ukraine\",\"United Arab Emirates\",\"United Kingdom\",\"United States\",\"Uruguay\",\"Uzbekistan\",\"Vanuatu\",\"Venezuela\",\"Vietnam\",\"Yemen\",\"Zambia\",\"Zimbabwe\"],\"locationmode\":\"country names\",\"locations\":[\"afghanistan\",\"albania\",\"algeria\",\"andorra\",\"angola\",\"antigua and barbuda\",\"argentina\",\"armenia\",\"australia\",\"austria\",\"azerbaijan\",\"the bahamas\",\"bahrain\",\"bangladesh\",\"barbados\",\"belarus\",\"belgium\",\"belize\",\"benin\",\"bhutan\",\"bolivia\",\"bosnia and herzegovina\",\"botswana\",\"brazil\",\"brunei\",\"bulgaria\",\"burkina faso\",\"burundi\",\"ivory coast\",\"cape verde\",\"cambodia\",\"cameroon\",\"canada\",\"central african republic\",\"chad\",\"chile\",\"china\",\"colombia\",\"comoros\",\"republic of the congo\",\"costa rica\",\"croatia\",\"cuba\",\"cyprus\",\"czech republic\",\"democratic republic of the congo\",\"denmark\",\"djibouti\",\"dominica\",\"dominican republic\",\"ecuador\",\"egypt\",\"el salvador\",\"equatorial guinea\",\"eritrea\",\"estonia\",\"eswatini\",\"ethiopia\",\"fiji\",\"finland\",\"france\",\"gabon\",\"georgia\",\"germany\",\"ghana\",\"greece\",\"grenada\",\"guatemala\",\"guinea\",\"guinea-bissau\",\"guyana\",\"haiti\",\"honduras\",\"hungary\",\"iceland\",\"india\",\"indonesia\",\"iran\",\"iraq\",\"republic of ireland\",\"israel\",\"italy\",\"jamaica\",\"japan\",\"jordan\",\"kazakhstan\",\"kenya\",\"kiribati\",\"kuwait\",\"kyrgyzstan\",\"laos\",\"latvia\",\"lebanon\",\"lesotho\",\"liberia\",\"libya\",\"liechtenstein\",\"lithuania\",\"luxembourg\",\"madagascar\",\"malawi\",\"malaysia\",\"maldives\",\"mali\",\"malta\",\"marshall islands\",\"mauritania\",\"mauritius\",\"mexico\",\"federated states of micronesia\",\"moldova\",\"monaco\",\"mongolia\",\"montenegro\",\"morocco\",\"mozambique\",\"myanmar\",\"namibia\",\"nauru\",\"nepal\",\"netherlands\",\"new zealand\",\"nicaragua\",\"niger\",\"nigeria\",\"north korea\",\"north macedonia\",\"norway\",\"oman\",\"pakistan\",\"palau\",\"palestinian national authority\",\"panama\",\"papua new guinea\",\"paraguay\",\"peru\",\"philippines\",\"poland\",\"portugal\",\"qatar\",\"romania\",\"russia\",\"rwanda\",\"saint kitts and nevis\",\"saint lucia\",\"saint vincent and the grenadines\",\"samoa\",\"san marino\",\"saudi arabia\",\"senegal\",\"serbia\",\"seychelles\",\"sierra leone\",\"singapore\",\"slovakia\",\"slovenia\",\"solomon islands\",\"somalia\",\"south africa\",\"south korea\",\"south sudan\",\"spain\",\"sri lanka\",\"sudan\",\"suriname\",\"sweden\",\"switzerland\",\"syria\",\"tajikistan\",\"tanzania\",\"thailand\",\"east timor\",\"togo\",\"tonga\",\"trinidad and tobago\",\"tunisia\",\"turkmenistan\",\"tuvalu\",\"uganda\",\"ukraine\",\"united arab emirates\",\"united kingdom\",\"united states\",\"uruguay\",\"uzbekistan\",\"vanuatu\",\"venezuela\",\"vietnam\",\"yemen\",\"zambia\",\"zimbabwe\"],\"name\":\"\",\"z\":[43.0,98.1,81.4,100.0,71.1,99.0,99.0,99.8,99.0,98.0,99.8,95.6,95.7,75.9,99.6,100.0,99.0,82.1,42.4,68.4,92.5,98.5,88.5,93.2,97.2,98.0,41.2,68.4,89.9,87.6,83.9,77.1,99.0,37.4,26.8,97.0,97.2,94.6,58.8,80.3,97.9,99.3,99.8,99.1,99.8,77.0,99.0,70.0,94.0,93.8,94.0,73.0,89.1,95.3,76.6,99.8,88.4,51.8,99.1,99.0,99.0,84.7,99.6,99.0,79.0,97.9,96.0,83.3,30.4,47.0,88.5,61.7,89.0,99.1,99.0,77.7,96.0,89.5,86.5,99.0,97.1,99.0,88.7,99.0,98.0,99.8,82.6,91.0,96.6,99.6,87.5,99.9,95.6,80.1,48.3,91.0,100.0,99.8,100.0,74.8,65.8,95.9,98.6,35.5,94.5,98.3,52.1,91.3,95.2,89.0,99.4,100.0,99.2,98.7,73.8,60.7,89.1,92.6,96.5,71.0,99.0,99.0,83.6,35.0,62.0,100.0,98.9,99.0,95.7,58.0,99.4,97.4,95.4,63.4,94.5,94.5,96.3,99.8,95.7,97.8,98.9,99.7,73.2,97.8,90.1,96.0,99.0,99.9,97.6,52.1,98.0,95.9,43.2,97.5,99.6,99.7,76.6,37.8,87.0,97.9,34.5,98.4,92.3,60.7,95.4,99.0,99.0,86.4,99.8,81.8,94.1,68.1,66.5,99.4,99.0,81.8,99.7,99.0,76.5,99.8,97.0,99.0,99.0,98.6,100.0,89.0,97.1,95.4,54.1,87.4,89.0],\"type\":\"choropleth\"}],                        {\"template\":{\"data\":{\"histogram2dcontour\":[{\"type\":\"histogram2dcontour\",\"colorbar\":{\"outlinewidth\":0,\"ticks\":\"\"},\"colorscale\":[[0.0,\"#0d0887\"],[0.1111111111111111,\"#46039f\"],[0.2222222222222222,\"#7201a8\"],[0.3333333333333333,\"#9c179e\"],[0.4444444444444444,\"#bd3786\"],[0.5555555555555556,\"#d8576b\"],[0.6666666666666666,\"#ed7953\"],[0.7777777777777778,\"#fb9f3a\"],[0.8888888888888888,\"#fdca26\"],[1.0,\"#f0f921\"]]}],\"choropleth\":[{\"type\":\"choropleth\",\"colorbar\":{\"outlinewidth\":0,\"ticks\":\"\"}}],\"histogram2d\":[{\"type\":\"histogram2d\",\"colorbar\":{\"outlinewidth\":0,\"ticks\":\"\"},\"colorscale\":[[0.0,\"#0d0887\"],[0.1111111111111111,\"#46039f\"],[0.2222222222222222,\"#7201a8\"],[0.3333333333333333,\"#9c179e\"],[0.4444444444444444,\"#bd3786\"],[0.5555555555555556,\"#d8576b\"],[0.6666666666666666,\"#ed7953\"],[0.7777777777777778,\"#fb9f3a\"],[0.8888888888888888,\"#fdca26\"],[1.0,\"#f0f921\"]]}],\"heatmap\":[{\"type\":\"heatmap\",\"colorbar\":{\"outlinewidth\":0,\"ticks\":\"\"},\"colorscale\":[[0.0,\"#0d0887\"],[0.1111111111111111,\"#46039f\"],[0.2222222222222222,\"#7201a8\"],[0.3333333333333333,\"#9c179e\"],[0.4444444444444444,\"#bd3786\"],[0.5555555555555556,\"#d8576b\"],[0.6666666666666666,\"#ed7953\"],[0.7777777777777778,\"#fb9f3a\"],[0.8888888888888888,\"#fdca26\"],[1.0,\"#f0f921\"]]}],\"heatmapgl\":[{\"type\":\"heatmapgl\",\"colorbar\":{\"outlinewidth\":0,\"ticks\":\"\"},\"colorscale\":[[0.0,\"#0d0887\"],[0.1111111111111111,\"#46039f\"],[0.2222222222222222,\"#7201a8\"],[0.3333333333333333,\"#9c179e\"],[0.4444444444444444,\"#bd3786\"],[0.5555555555555556,\"#d8576b\"],[0.6666666666666666,\"#ed7953\"],[0.7777777777777778,\"#fb9f3a\"],[0.8888888888888888,\"#fdca26\"],[1.0,\"#f0f921\"]]}],\"contourcarpet\":[{\"type\":\"contourcarpet\",\"colorbar\":{\"outlinewidth\":0,\"ticks\":\"\"}}],\"contour\":[{\"type\":\"contour\",\"colorbar\":{\"outlinewidth\":0,\"ticks\":\"\"},\"colorscale\":[[0.0,\"#0d0887\"],[0.1111111111111111,\"#46039f\"],[0.2222222222222222,\"#7201a8\"],[0.3333333333333333,\"#9c179e\"],[0.4444444444444444,\"#bd3786\"],[0.5555555555555556,\"#d8576b\"],[0.6666666666666666,\"#ed7953\"],[0.7777777777777778,\"#fb9f3a\"],[0.8888888888888888,\"#fdca26\"],[1.0,\"#f0f921\"]]}],\"surface\":[{\"type\":\"surface\",\"colorbar\":{\"outlinewidth\":0,\"ticks\":\"\"},\"colorscale\":[[0.0,\"#0d0887\"],[0.1111111111111111,\"#46039f\"],[0.2222222222222222,\"#7201a8\"],[0.3333333333333333,\"#9c179e\"],[0.4444444444444444,\"#bd3786\"],[0.5555555555555556,\"#d8576b\"],[0.6666666666666666,\"#ed7953\"],[0.7777777777777778,\"#fb9f3a\"],[0.8888888888888888,\"#fdca26\"],[1.0,\"#f0f921\"]]}],\"mesh3d\":[{\"type\":\"mesh3d\",\"colorbar\":{\"outlinewidth\":0,\"ticks\":\"\"}}],\"scatter\":[{\"fillpattern\":{\"fillmode\":\"overlay\",\"size\":10,\"solidity\":0.2},\"type\":\"scatter\"}],\"parcoords\":[{\"type\":\"parcoords\",\"line\":{\"colorbar\":{\"outlinewidth\":0,\"ticks\":\"\"}}}],\"scatterpolargl\":[{\"type\":\"scatterpolargl\",\"marker\":{\"colorbar\":{\"outlinewidth\":0,\"ticks\":\"\"}}}],\"bar\":[{\"error_x\":{\"color\":\"#2a3f5f\"},\"error_y\":{\"color\":\"#2a3f5f\"},\"marker\":{\"line\":{\"color\":\"#E5ECF6\",\"width\":0.5},\"pattern\":{\"fillmode\":\"overlay\",\"size\":10,\"solidity\":0.2}},\"type\":\"bar\"}],\"scattergeo\":[{\"type\":\"scattergeo\",\"marker\":{\"colorbar\":{\"outlinewidth\":0,\"ticks\":\"\"}}}],\"scatterpolar\":[{\"type\":\"scatterpolar\",\"marker\":{\"colorbar\":{\"outlinewidth\":0,\"ticks\":\"\"}}}],\"histogram\":[{\"marker\":{\"pattern\":{\"fillmode\":\"overlay\",\"size\":10,\"solidity\":0.2}},\"type\":\"histogram\"}],\"scattergl\":[{\"type\":\"scattergl\",\"marker\":{\"colorbar\":{\"outlinewidth\":0,\"ticks\":\"\"}}}],\"scatter3d\":[{\"type\":\"scatter3d\",\"line\":{\"colorbar\":{\"outlinewidth\":0,\"ticks\":\"\"}},\"marker\":{\"colorbar\":{\"outlinewidth\":0,\"ticks\":\"\"}}}],\"scattermapbox\":[{\"type\":\"scattermapbox\",\"marker\":{\"colorbar\":{\"outlinewidth\":0,\"ticks\":\"\"}}}],\"scatterternary\":[{\"type\":\"scatterternary\",\"marker\":{\"colorbar\":{\"outlinewidth\":0,\"ticks\":\"\"}}}],\"scattercarpet\":[{\"type\":\"scattercarpet\",\"marker\":{\"colorbar\":{\"outlinewidth\":0,\"ticks\":\"\"}}}],\"carpet\":[{\"aaxis\":{\"endlinecolor\":\"#2a3f5f\",\"gridcolor\":\"white\",\"linecolor\":\"white\",\"minorgridcolor\":\"white\",\"startlinecolor\":\"#2a3f5f\"},\"baxis\":{\"endlinecolor\":\"#2a3f5f\",\"gridcolor\":\"white\",\"linecolor\":\"white\",\"minorgridcolor\":\"white\",\"startlinecolor\":\"#2a3f5f\"},\"type\":\"carpet\"}],\"table\":[{\"cells\":{\"fill\":{\"color\":\"#EBF0F8\"},\"line\":{\"color\":\"white\"}},\"header\":{\"fill\":{\"color\":\"#C8D4E3\"},\"line\":{\"color\":\"white\"}},\"type\":\"table\"}],\"barpolar\":[{\"marker\":{\"line\":{\"color\":\"#E5ECF6\",\"width\":0.5},\"pattern\":{\"fillmode\":\"overlay\",\"size\":10,\"solidity\":0.2}},\"type\":\"barpolar\"}],\"pie\":[{\"automargin\":true,\"type\":\"pie\"}]},\"layout\":{\"autotypenumbers\":\"strict\",\"colorway\":[\"#636efa\",\"#EF553B\",\"#00cc96\",\"#ab63fa\",\"#FFA15A\",\"#19d3f3\",\"#FF6692\",\"#B6E880\",\"#FF97FF\",\"#FECB52\"],\"font\":{\"color\":\"#2a3f5f\"},\"hovermode\":\"closest\",\"hoverlabel\":{\"align\":\"left\"},\"paper_bgcolor\":\"white\",\"plot_bgcolor\":\"#E5ECF6\",\"polar\":{\"bgcolor\":\"#E5ECF6\",\"angularaxis\":{\"gridcolor\":\"white\",\"linecolor\":\"white\",\"ticks\":\"\"},\"radialaxis\":{\"gridcolor\":\"white\",\"linecolor\":\"white\",\"ticks\":\"\"}},\"ternary\":{\"bgcolor\":\"#E5ECF6\",\"aaxis\":{\"gridcolor\":\"white\",\"linecolor\":\"white\",\"ticks\":\"\"},\"baxis\":{\"gridcolor\":\"white\",\"linecolor\":\"white\",\"ticks\":\"\"},\"caxis\":{\"gridcolor\":\"white\",\"linecolor\":\"white\",\"ticks\":\"\"}},\"coloraxis\":{\"colorbar\":{\"outlinewidth\":0,\"ticks\":\"\"}},\"colorscale\":{\"sequential\":[[0.0,\"#0d0887\"],[0.1111111111111111,\"#46039f\"],[0.2222222222222222,\"#7201a8\"],[0.3333333333333333,\"#9c179e\"],[0.4444444444444444,\"#bd3786\"],[0.5555555555555556,\"#d8576b\"],[0.6666666666666666,\"#ed7953\"],[0.7777777777777778,\"#fb9f3a\"],[0.8888888888888888,\"#fdca26\"],[1.0,\"#f0f921\"]],\"sequentialminus\":[[0.0,\"#0d0887\"],[0.1111111111111111,\"#46039f\"],[0.2222222222222222,\"#7201a8\"],[0.3333333333333333,\"#9c179e\"],[0.4444444444444444,\"#bd3786\"],[0.5555555555555556,\"#d8576b\"],[0.6666666666666666,\"#ed7953\"],[0.7777777777777778,\"#fb9f3a\"],[0.8888888888888888,\"#fdca26\"],[1.0,\"#f0f921\"]],\"diverging\":[[0,\"#8e0152\"],[0.1,\"#c51b7d\"],[0.2,\"#de77ae\"],[0.3,\"#f1b6da\"],[0.4,\"#fde0ef\"],[0.5,\"#f7f7f7\"],[0.6,\"#e6f5d0\"],[0.7,\"#b8e186\"],[0.8,\"#7fbc41\"],[0.9,\"#4d9221\"],[1,\"#276419\"]]},\"xaxis\":{\"gridcolor\":\"white\",\"linecolor\":\"white\",\"ticks\":\"\",\"title\":{\"standoff\":15},\"zerolinecolor\":\"white\",\"automargin\":true,\"zerolinewidth\":2},\"yaxis\":{\"gridcolor\":\"white\",\"linecolor\":\"white\",\"ticks\":\"\",\"title\":{\"standoff\":15},\"zerolinecolor\":\"white\",\"automargin\":true,\"zerolinewidth\":2},\"scene\":{\"xaxis\":{\"backgroundcolor\":\"#E5ECF6\",\"gridcolor\":\"white\",\"linecolor\":\"white\",\"showbackground\":true,\"ticks\":\"\",\"zerolinecolor\":\"white\",\"gridwidth\":2},\"yaxis\":{\"backgroundcolor\":\"#E5ECF6\",\"gridcolor\":\"white\",\"linecolor\":\"white\",\"showbackground\":true,\"ticks\":\"\",\"zerolinecolor\":\"white\",\"gridwidth\":2},\"zaxis\":{\"backgroundcolor\":\"#E5ECF6\",\"gridcolor\":\"white\",\"linecolor\":\"white\",\"showbackground\":true,\"ticks\":\"\",\"zerolinecolor\":\"white\",\"gridwidth\":2}},\"shapedefaults\":{\"line\":{\"color\":\"#2a3f5f\"}},\"annotationdefaults\":{\"arrowcolor\":\"#2a3f5f\",\"arrowhead\":0,\"arrowwidth\":1},\"geo\":{\"bgcolor\":\"white\",\"landcolor\":\"#E5ECF6\",\"subunitcolor\":\"white\",\"showland\":true,\"showlakes\":true,\"lakecolor\":\"white\"},\"title\":{\"x\":0.05},\"mapbox\":{\"style\":\"light\"}}},\"geo\":{\"domain\":{\"x\":[0.0,1.0],\"y\":[0.0,1.0]},\"center\":{}},\"coloraxis\":{\"colorbar\":{\"title\":{\"text\":\"Literacy\\u003cbr\\u003eRate (%)\"}},\"colorscale\":[[0.0,\"#0d0887\"],[0.1111111111111111,\"#46039f\"],[0.2222222222222222,\"#7201a8\"],[0.3333333333333333,\"#9c179e\"],[0.4444444444444444,\"#bd3786\"],[0.5555555555555556,\"#d8576b\"],[0.6666666666666666,\"#ed7953\"],[0.7777777777777778,\"#fb9f3a\"],[0.8888888888888888,\"#fdca26\"],[1.0,\"#f0f921\"]]},\"legend\":{\"tracegroupgap\":0},\"title\":{\"text\":\"**Global Literacy Rate and Economic Indicators (Interactive Map)**\"},\"height\":1000},                        {\"responsive\": true}                    ).then(function(){\n",
       "                            \n",
       "var gd = document.getElementById('1f1fba77-ff7a-4e37-b26f-301c642145d8');\n",
       "var x = new MutationObserver(function (mutations, observer) {{\n",
       "        var display = window.getComputedStyle(gd).display;\n",
       "        if (!display || display === 'none') {{\n",
       "            console.log([gd, 'removed!']);\n",
       "            Plotly.purge(gd);\n",
       "            observer.disconnect();\n",
       "        }}\n",
       "}});\n",
       "\n",
       "// Listen for the removal of the full notebook cells\n",
       "var notebookContainer = gd.closest('#notebook-container');\n",
       "if (notebookContainer) {{\n",
       "    x.observe(notebookContainer, {childList: true});\n",
       "}}\n",
       "\n",
       "// Listen for the clearing of the current output cell\n",
       "var outputEl = gd.closest('.output');\n",
       "if (outputEl) {{\n",
       "    x.observe(outputEl, {childList: true});\n",
       "}}\n",
       "\n",
       "                        })                };                });            </script>        </div>"
      ]
     },
     "metadata": {},
     "output_type": "display_data"
    }
   ],
   "source": [
    "df['Country_Code'] = df['Country'].str.lower().str.strip()\n",
    "df['Country_Display'] = df['Country'].str.title()\n",
    "fig = px.choropleth(\n",
    "    data_frame=df,\n",
    "    locations='Country_Code',#Column for matching (cleaned country code)\n",
    "    locationmode='country names',#Specifies that the 'locations' column holds country names\n",
    "    color='Literacy Rate',#The variable used to color the countries\n",
    "    hover_name='Country_Display',#Name displayed on hover\n",
    "    hover_data={\n",
    "        'Literacy Rate': True,\n",
    "        'Physician Density': True,\n",
    "        'Unemployment Rate (%)': True,\n",
    "        'GDP per Capita (Current USD)': True,\n",
    "        'Country_Code': False,\n",
    "        'Country_Display': False,\n",
    "        'Country': False\n",
    "    },\n",
    "    color_continuous_scale=px.colors.sequential.Plasma,\n",
    "    title='**Global Literacy Rate and Economic Indicators (Interactive Map)**'\n",
    "    )\n",
    "fig.update_layout(\n",
    "    coloraxis_colorbar=dict(\n",
    "        title=\"Literacy<br>Rate (%)\",\n",
    "    ),\n",
    "    height=1000,\n",
    ")\n",
    "fig.show()"
   ]
  },
  {
   "cell_type": "code",
   "execution_count": null,
   "id": "e656fddc-20c9-4727-8c34-408a6b24c156",
   "metadata": {},
   "outputs": [],
   "source": []
  }
 ],
 "metadata": {
  "kernelspec": {
   "display_name": "Python 3 (ipykernel)",
   "language": "python",
   "name": "python3"
  },
  "language_info": {
   "codemirror_mode": {
    "name": "ipython",
    "version": 3
   },
   "file_extension": ".py",
   "mimetype": "text/x-python",
   "name": "python",
   "nbconvert_exporter": "python",
   "pygments_lexer": "ipython3",
   "version": "3.13.5"
  }
 },
 "nbformat": 4,
 "nbformat_minor": 5
}
